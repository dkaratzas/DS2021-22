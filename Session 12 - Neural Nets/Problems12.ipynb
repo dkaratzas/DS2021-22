{
 "cells": [
  {
   "cell_type": "markdown",
   "id": "1c2dbbf5-34e5-4891-b804-7c871b649b9c",
   "metadata": {},
   "source": [
    "# Problems 12 - Neural Networks"
   ]
  },
  {
   "cell_type": "markdown",
   "id": "293afe52-c949-4f68-9ac2-6d506a482728",
   "metadata": {},
   "source": [
    "In this notebook we will be using <a href=\"https://pytorch.org/\">PyTorch</a>, an open source machine learning framework, that allows us to easily define and train neural network models. <a href=\"https://pytorch.org/\">PyTorch</a> is a Python based scientific computing package targeted at two types of audience:\n",
    "\n",
    "-  At the low level, it is a tensor library capable to exploit the computational power of GPUs\n",
    "-  At the high level, it is a deep learning research platform that provides maximum flexibility and speed"
   ]
  },
  {
   "cell_type": "code",
   "execution_count": 1,
   "id": "0a8b0a92-9590-4e1d-861b-20c8bf2425aa",
   "metadata": {
    "id": "FzX92S587jbm"
   },
   "outputs": [],
   "source": [
    "import torch"
   ]
  },
  {
   "cell_type": "markdown",
   "id": "d15c98af-f714-4275-944c-5876f7a822a9",
   "metadata": {},
   "source": [
    "At the core of PyTorch there is the `Tensor` class. It is very much like numpy's arrays, but supports autograd."
   ]
  },
  {
   "cell_type": "code",
   "execution_count": 2,
   "id": "af7ec6d1-47e7-4d8d-ac9b-94a45fdc606c",
   "metadata": {
    "id": "dxMMJ1tO7jbq"
   },
   "outputs": [
    {
     "data": {
      "text/plain": [
       "torch.Tensor"
      ]
     },
     "execution_count": 2,
     "metadata": {},
     "output_type": "execute_result"
    }
   ],
   "source": [
    "# Generate a tensor of size 2x3\n",
    "t = torch.Tensor(2, 3)\n",
    "type(t)"
   ]
  },
  {
   "cell_type": "code",
   "execution_count": 3,
   "id": "c4c08f7c-e598-4e0a-9065-ca7f73146059",
   "metadata": {},
   "outputs": [
    {
     "data": {
      "text/plain": [
       "torch.Size([2, 3])"
      ]
     },
     "execution_count": 3,
     "metadata": {},
     "output_type": "execute_result"
    }
   ],
   "source": [
    "t.shape"
   ]
  },
  {
   "cell_type": "code",
   "execution_count": 4,
   "id": "608c0850-b363-4203-99db-a119a621bf2c",
   "metadata": {},
   "outputs": [
    {
     "data": {
      "text/plain": [
       "2"
      ]
     },
     "execution_count": 4,
     "metadata": {},
     "output_type": "execute_result"
    }
   ],
   "source": [
    "t.dim()"
   ]
  },
  {
   "cell_type": "code",
   "execution_count": 5,
   "id": "b7aa20c9-abd9-4b77-8074-a90aeecb2d56",
   "metadata": {
    "id": "uC8XADcV7jbr"
   },
   "outputs": [
    {
     "data": {
      "text/plain": [
       "tensor([[6.7262e-44, 8.1275e-44, 6.8664e-44],\n",
       "        [7.7071e-44, 8.1275e-44, 7.0065e-44]])"
      ]
     },
     "execution_count": 5,
     "metadata": {},
     "output_type": "execute_result"
    }
   ],
   "source": [
    "t"
   ]
  },
  {
   "cell_type": "markdown",
   "id": "20ddb872-3e0a-4f13-a47e-eb9d85cba678",
   "metadata": {},
   "source": [
    "Next we will play with vectors"
   ]
  },
  {
   "cell_type": "code",
   "execution_count": 6,
   "id": "2c111df7-6aec-40c3-9407-464c57d4a096",
   "metadata": {
    "id": "dRCvA1R17jbt"
   },
   "outputs": [
    {
     "data": {
      "text/plain": [
       "tensor([1., 2., 3., 4.])"
      ]
     },
     "execution_count": 6,
     "metadata": {},
     "output_type": "execute_result"
    }
   ],
   "source": [
    "# Creates a 1D tensor of integers 1 to 4\n",
    "v = torch.Tensor([1, 2, 3, 4])\n",
    "v"
   ]
  },
  {
   "cell_type": "code",
   "execution_count": 7,
   "id": "9d48b382-b5eb-4039-8fd3-0fc47a5bed82",
   "metadata": {
    "id": "K03oi68R7jbu"
   },
   "outputs": [
    {
     "data": {
      "text/plain": [
       "tensor([1., 0., 2., 0.])"
      ]
     },
     "execution_count": 7,
     "metadata": {},
     "output_type": "execute_result"
    }
   ],
   "source": [
    "w = torch.Tensor([1, 0, 2, 0])\n",
    "w"
   ]
  },
  {
   "cell_type": "code",
   "execution_count": 8,
   "id": "c04a4db9-be82-4a8c-a1ad-67949c5addc2",
   "metadata": {
    "id": "yGGpVC_b7jbu"
   },
   "outputs": [
    {
     "data": {
      "text/plain": [
       "tensor([1., 0., 6., 0.])"
      ]
     },
     "execution_count": 8,
     "metadata": {},
     "output_type": "execute_result"
    }
   ],
   "source": [
    "# Element-wise multiplication\n",
    "v * w"
   ]
  },
  {
   "cell_type": "code",
   "execution_count": 9,
   "id": "0eec6d94-b252-41ea-8226-e8a69e67fe64",
   "metadata": {
    "id": "pq7-Aqs_7jbu"
   },
   "outputs": [
    {
     "data": {
      "text/plain": [
       "tensor(7.)"
      ]
     },
     "execution_count": 9,
     "metadata": {},
     "output_type": "execute_result"
    }
   ],
   "source": [
    "# Scalar product: 1*1 + 2*0 + 3*2 + 4*0\n",
    "v @ w"
   ]
  },
  {
   "cell_type": "markdown",
   "id": "80f62e45-ac48-4aea-ab80-5f85c16dbaa7",
   "metadata": {},
   "source": [
    "Now let's create a matrix"
   ]
  },
  {
   "cell_type": "code",
   "execution_count": 10,
   "id": "dcc8551e-8d2c-48c2-a0f9-bb0a1986cc1d",
   "metadata": {
    "id": "JuiyP0MK7jbv"
   },
   "outputs": [
    {
     "data": {
      "text/plain": [
       "tensor([[2., 5., 3., 7.],\n",
       "        [4., 2., 1., 9.]])"
      ]
     },
     "execution_count": 10,
     "metadata": {},
     "output_type": "execute_result"
    }
   ],
   "source": [
    "# Create a 2x4 tensor\n",
    "m = torch.Tensor([[2, 5, 3, 7],\n",
    "                  [4, 2, 1, 9]])\n",
    "m"
   ]
  },
  {
   "cell_type": "markdown",
   "id": "aebbbe30-a3e0-4662-bf51-c6029e09c865",
   "metadata": {},
   "source": [
    "Indexing works exactly the same as numpy"
   ]
  },
  {
   "cell_type": "code",
   "execution_count": 11,
   "id": "522a0ee2-faf7-4381-9283-67118d7b62ba",
   "metadata": {
    "id": "4vuLnT2z7jbw"
   },
   "outputs": [
    {
     "data": {
      "text/plain": [
       "tensor(3.)"
      ]
     },
     "execution_count": 11,
     "metadata": {},
     "output_type": "execute_result"
    }
   ],
   "source": [
    "# Indexing row 0, column 2 (0-indexed)\n",
    "m[0][2]"
   ]
  },
  {
   "cell_type": "code",
   "execution_count": 12,
   "id": "28e9e94e-b205-4f80-a1fc-120c5f81e27e",
   "metadata": {
    "id": "YLIC7pG97jbw"
   },
   "outputs": [
    {
     "data": {
      "text/plain": [
       "tensor(3.)"
      ]
     },
     "execution_count": 12,
     "metadata": {},
     "output_type": "execute_result"
    }
   ],
   "source": [
    "# Indexing row 0, column 2 (0-indexed)\n",
    "m[0, 2]"
   ]
  },
  {
   "cell_type": "code",
   "execution_count": 13,
   "id": "706cd73e-3cea-4c42-a062-390bf7502b31",
   "metadata": {
    "id": "tsutF_zc7jbw"
   },
   "outputs": [
    {
     "data": {
      "text/plain": [
       "tensor([5., 2.])"
      ]
     },
     "execution_count": 13,
     "metadata": {},
     "output_type": "execute_result"
    }
   ],
   "source": [
    "# Indexing column 1, all rows (returns size 2)\n",
    "m[:, 1]"
   ]
  },
  {
   "cell_type": "code",
   "execution_count": 14,
   "id": "3283e6aa-5d61-4fe5-aac1-adcf1ef389ca",
   "metadata": {
    "id": "c10o4XUQ7jbx"
   },
   "outputs": [
    {
     "data": {
      "text/plain": [
       "tensor([49., 47.])"
      ]
     },
     "execution_count": 14,
     "metadata": {},
     "output_type": "execute_result"
    }
   ],
   "source": [
    "# Scalar product\n",
    "m @ v"
   ]
  },
  {
   "cell_type": "code",
   "execution_count": 15,
   "id": "a782ccba-833d-453e-ac3b-d3cff468cdab",
   "metadata": {
    "id": "88uWT_-N7jbz"
   },
   "outputs": [
    {
     "data": {
      "text/plain": [
       "tensor([[2., 4.],\n",
       "        [5., 2.],\n",
       "        [3., 1.],\n",
       "        [7., 9.]])"
      ]
     },
     "execution_count": 15,
     "metadata": {},
     "output_type": "execute_result"
    }
   ],
   "source": [
    "# Transpose tensor m, which is essentially 2x4 to 4x2\n",
    "m.t()"
   ]
  },
  {
   "cell_type": "markdown",
   "id": "135aaa46-6ed0-45e1-a1be-311b8cd7e16f",
   "metadata": {
    "id": "x59Bo0QnEUOU",
    "tags": []
   },
   "source": [
    "# Gradient Computation\n",
    "\n"
   ]
  },
  {
   "cell_type": "markdown",
   "id": "f1f75fe0-4eb7-437b-bbd6-22470673a3c5",
   "metadata": {},
   "source": [
    "Apart from using Tensors to calculate stuff, Tensors also track the operations applied on them in order to differentiate them"
   ]
  },
  {
   "cell_type": "code",
   "execution_count": 16,
   "id": "74d91f36-eec4-4086-ad69-59713a8be03e",
   "metadata": {},
   "outputs": [
    {
     "name": "stdout",
     "output_type": "stream",
     "text": [
      "Gradient of b with respecto to a: 5.0\n"
     ]
    }
   ],
   "source": [
    "a = torch.tensor(2.0, requires_grad=True)\n",
    "\n",
    "b = 5 * a\n",
    "\n",
    "b.backward()\n",
    "\n",
    "print(f\"Gradient of b with respecto to a: {a.grad}\")"
   ]
  },
  {
   "cell_type": "markdown",
   "id": "65e2f5cb-9974-45b4-bc80-7616f9685671",
   "metadata": {},
   "source": [
    "Setting `requires_grad` to true tells the autograd engine that we want to compute gradients for this tensor"
   ]
  },
  {
   "cell_type": "code",
   "execution_count": 17,
   "id": "0e4488ce-f650-4d32-b838-cc1c64e12013",
   "metadata": {},
   "outputs": [
    {
     "name": "stdout",
     "output_type": "stream",
     "text": [
      "Gradient of b with respecto to a: 4.0\n"
     ]
    }
   ],
   "source": [
    "a = torch.tensor(2.0, requires_grad=True)\n",
    "\n",
    "b = a ** 2\n",
    "\n",
    "b.backward()\n",
    "\n",
    "print(f\"Gradient of b with respecto to a: {a.grad}\")"
   ]
  },
  {
   "cell_type": "code",
   "execution_count": 18,
   "id": "d294f532-d612-41f0-be65-56ac4fecf2e8",
   "metadata": {},
   "outputs": [
    {
     "name": "stdout",
     "output_type": "stream",
     "text": [
      "Gradient of c with respecto to a: 100.0\n"
     ]
    }
   ],
   "source": [
    "a = torch.tensor(2.0, requires_grad=True)\n",
    "\n",
    "b = 5 * a\n",
    "c = b**2\n",
    "\n",
    "c.backward()\n",
    "\n",
    "print(f\"Gradient of c with respecto to a: {a.grad}\")"
   ]
  },
  {
   "cell_type": "markdown",
   "id": "07b89b42-3292-4044-8e6d-ef6922a73fe1",
   "metadata": {},
   "source": [
    "# A Classification Problem"
   ]
  },
  {
   "cell_type": "markdown",
   "id": "1cc94577-b46b-409d-9728-74bfa6d52fbe",
   "metadata": {},
   "source": [
    "We will now create some random classification data to work on. We will start with an easy example, where the classes are easily separable with a linear surface."
   ]
  },
  {
   "cell_type": "code",
   "execution_count": 19,
   "id": "a52eef4c-5a83-4b9e-871e-4ad4f3c73a38",
   "metadata": {},
   "outputs": [],
   "source": [
    "import torch\n",
    "import numpy as np\n",
    "import matplotlib.pyplot as plt\n",
    "from IPython import display"
   ]
  },
  {
   "cell_type": "markdown",
   "id": "07b4c382-12f6-4c7a-8b9f-5b1a74cb0403",
   "metadata": {},
   "source": [
    "We will be creating two sets of points, sampled from two different Gaussians"
   ]
  },
  {
   "cell_type": "code",
   "execution_count": 20,
   "id": "03c3c1c4-d5c4-4f51-836d-c619ad3c7529",
   "metadata": {},
   "outputs": [],
   "source": [
    "from sklearn.datasets import make_blobs\n",
    "\n",
    "N = 300 # number of sample\n",
    "\n",
    "x_train, y_train = make_blobs(n_samples = N, n_features = 2, centers=[[0, 0.5], [0, -0.5]], cluster_std=0.2) # training data\n",
    "x_val, y_val = make_blobs(n_samples = N, n_features = 2, centers=[[0, 0.5], [0, -0.5]], cluster_std=0.2) # training data"
   ]
  },
  {
   "cell_type": "markdown",
   "id": "1ff2bd1a-87cf-45dc-9460-d7a60e4de415",
   "metadata": {},
   "source": [
    "We will be using PyTorch, therefore we will convert all our data into Tensors"
   ]
  },
  {
   "cell_type": "code",
   "execution_count": 21,
   "id": "86c68764-0d18-4b8d-b96e-837b58b94a01",
   "metadata": {},
   "outputs": [],
   "source": [
    "x_train = torch.from_numpy(x_train).float()\n",
    "y_train = torch.from_numpy(y_train).float()\n",
    "x_val = torch.from_numpy(x_val).float()\n",
    "y_val = torch.from_numpy(y_val).float()"
   ]
  },
  {
   "cell_type": "markdown",
   "id": "2fb99d53-9b8f-43bb-b9fc-8d009701da17",
   "metadata": {},
   "source": [
    "Let's confirm that we have got some reasonable data."
   ]
  },
  {
   "cell_type": "code",
   "execution_count": 22,
   "id": "492ac082-b187-4ba0-93ea-5a59b4c0d668",
   "metadata": {
    "tags": []
   },
   "outputs": [
    {
     "data": {
      "text/plain": [
       "(-2.0, 2.0)"
      ]
     },
     "execution_count": 22,
     "metadata": {},
     "output_type": "execute_result"
    },
    {
     "data": {
      "image/png": "[encoded data removed]",
      "text/plain": [
       "<Figure size 360x360 with 1 Axes>"
      ]
     },
     "metadata": {
      "needs_background": "light"
     },
     "output_type": "display_data"
    }
   ],
   "source": [
    "plt.figure(figsize = (5,5))\n",
    "plt.scatter(x_train[y_train == 0,0], x_train[y_train == 0,1], marker = \".\", c = \"blue\")\n",
    "plt.scatter(x_train[y_train == 1,0], x_train[y_train == 1,1], marker = \"x\", c = \"red\")\n",
    "plt.ylim(-2, 2)\n",
    "plt.xlim(-2, 2)"
   ]
  },
  {
   "cell_type": "markdown",
   "id": "0b61d18a-f992-4d8a-920e-4701c0cc879d",
   "metadata": {
    "tags": []
   },
   "source": [
    "We will also define a function to plot the decision surface of any given model. Do not worry about the following function, just treat it as a black box for the time being."
   ]
  },
  {
   "cell_type": "code",
   "execution_count": 23,
   "id": "178f095b-5e57-4960-bac4-774e9df30f5d",
   "metadata": {},
   "outputs": [],
   "source": [
    "def plot_model(x, y, model, axis):\n",
    "    mesh = torch.arange(-2, 2, 0.01)\n",
    "\n",
    "    xx, yy = torch.meshgrid(mesh, mesh)\n",
    "    with torch.no_grad():\n",
    "        data = torch.from_numpy(np.vstack((xx.reshape(-1), yy.reshape(-1))).T).float()\n",
    "        Z = model(data.detach())\n",
    "    Z = Z.reshape(xx.shape)\n",
    "    axis.contourf(xx, yy, Z, levels = [0, 0.5, 1], cmap=plt.cm.coolwarm, alpha=0.3)\n",
    "    axis.scatter(x[:, 0], x[:, 1], c=y, s=20, cmap=plt.cm.coolwarm)\n",
    "    axis.get_xaxis().set_ticks([])\n",
    "    axis.get_yaxis().set_ticks([])"
   ]
  },
  {
   "cell_type": "markdown",
   "id": "4709197d-6ead-4f5c-9f5a-ad64c5395526",
   "metadata": {
    "tags": []
   },
   "source": [
    "## 12.1 Recovering Logistic Regression, with Neural Networks"
   ]
  },
  {
   "cell_type": "markdown",
   "id": "5cbf791d-8c59-4624-abac-80897b86afbe",
   "metadata": {},
   "source": [
    "The input data we have is 2-dimensional, hence we define the dimensionality of our input to be equal to 2"
   ]
  },
  {
   "cell_type": "code",
   "execution_count": 24,
   "id": "89622bac-8a90-4281-8a4d-fe49262cb89d",
   "metadata": {},
   "outputs": [],
   "source": [
    "dIn = 2"
   ]
  },
  {
   "cell_type": "markdown",
   "id": "fef39c41-5858-4fd0-b9b0-309f3f50e18c",
   "metadata": {},
   "source": [
    "One way to define a neural network using PyTorch, is as a sequence of layers and operations that are applied in order to every input. Look at the manual for more information: https://pytorch.org/docs/stable/generated/torch.nn.Sequential.html"
   ]
  },
  {
   "cell_type": "markdown",
   "id": "4791f76e-563d-44e7-b846-f886bfc9eb50",
   "metadata": {},
   "source": [
    "To define a simple logistic regression model, we want just one linear layer, that goes from `dIn` dimensions to just 1, this would correspond to a layer with a single neuron. Then we would pass the result of the weighted sum through a Sigmoid function. We defined below the sequence of operations"
   ]
  },
  {
   "cell_type": "code",
   "execution_count": 25,
   "id": "38dcf5de-00db-4e7c-a45f-39962b6f9e87",
   "metadata": {},
   "outputs": [],
   "source": [
    "import torch.nn as nn\n",
    "\n",
    "modelLogistic = nn.Sequential(\n",
    "    nn.Linear(dIn, 1), #A linear layer that goes from dIn to 1 dimension\n",
    "    nn.Sigmoid() # A Sigmoid non-linearity that will be applied to the results of the previous operation\n",
    ")"
   ]
  },
  {
   "cell_type": "markdown",
   "id": "a4681250-61b1-4a58-a562-0bb3d316c927",
   "metadata": {},
   "source": [
    "The second thing we need to define, is the loss function that we want to use. There are a number of loss functions already defined for us. The \"Binary Cross-Entropy\" function is the one we used for logistic regression, and it is implemented as `BCELoss()` in PyTorch: https://pytorch.org/docs/stable/generated/torch.nn.BCELoss.html"
   ]
  },
  {
   "cell_type": "code",
   "execution_count": 26,
   "id": "7265b280-0015-4521-8c74-4614c4058661",
   "metadata": {},
   "outputs": [],
   "source": [
    "criterion = torch.nn.BCELoss()"
   ]
  },
  {
   "cell_type": "markdown",
   "id": "cd0a58e1-f0c9-4e41-bc45-e58c84917a4d",
   "metadata": {},
   "source": [
    "The next thing in line is to define what is the optimisation procedure we want to use. The only one we know up to now is simple full-batch gradient descent. This is implemented by the function `SGD()` in PyTorch: https://pytorch.org/docs/stable/generated/torch.optim.SGD.html\n",
    "\n",
    "Actually, SGD stands for \"Stochastic Gradient Descent\", but if we pass it the whole batch (all the data) all the time, we will be effectively doing full-batch gradient descent.\n",
    "\n",
    "When we define an optimiser, we need to tell it which parameters it is supposed to updated every time. In our case, we want it to update all the parameters of our model."
   ]
  },
  {
   "cell_type": "code",
   "execution_count": 27,
   "id": "a4e8d77d-c92e-424d-b9b8-cd9cf0fd927a",
   "metadata": {
    "tags": []
   },
   "outputs": [],
   "source": [
    "learning_rate = 0.3\n",
    "\n",
    "# we use the optim package to apply gradient descent for our parameter updates\n",
    "optimizer = torch.optim.SGD(modelLogistic.parameters(), lr=learning_rate)"
   ]
  },
  {
   "cell_type": "markdown",
   "id": "3d934521-203f-4ba4-ac6e-ebbafc6cf142",
   "metadata": {},
   "source": [
    "The core of our learning, is the training loop, which brings all the above elements together. The idea is that we will do many iterations (epochs) over the whole batch of data, in every time we will:\n",
    "\n",
    "- pass all our input values through the model and calculate a result (our prediction)\n",
    "- compare our prediction to the ground truth (\"correct\") values and calculate the loss, using the criterion function we defined\n",
    "- zero the gradients of all parameters of our model, and backpropagate the loss by calling `backward()`. This will calculate the gradient of every parameter of ours\n",
    "- use these gradients to update each parameter, the optimiser object we defined below will do that according to the optimisation procedure we have selected, by calling its `step()` function"
   ]
  },
  {
   "cell_type": "code",
   "execution_count": 28,
   "id": "95d1c26a-8b9b-42fd-947e-ca1fb92fab40",
   "metadata": {},
   "outputs": [],
   "source": [
    "# Training loop\n",
    "def train(x_train, y_train, criterion, model, optimizer, epochs = 5000, printEvery = 500):\n",
    "    \n",
    "    training_loss = [] # A list to keep track of the evolution of our loss\n",
    "\n",
    "    for t in range(epochs):\n",
    "        \n",
    "        # activate training mode\n",
    "        model.train()\n",
    "        \n",
    "        # Feed forward to get the logits\n",
    "        y_pred = model(x_train) # x_train is the whole batch, so we are doing batch gradient descent\n",
    "        y_pred = y_pred.squeeze() # will remove any dimensions of size 1\n",
    "    \n",
    "        # Compute the loss\n",
    "        loss = criterion(y_pred, y_train)\n",
    "        \n",
    "        # zero the gradients before running the backward pass\n",
    "        optimizer.zero_grad()\n",
    "        \n",
    "        # Backward pass to compute the gradient of loss w.r.t our learnable params\n",
    "        loss.backward()\n",
    "\n",
    "        # Update params\n",
    "        optimizer.step()\n",
    "\n",
    "        \n",
    "        # Compute the accuracy\n",
    "        predicted = (y_pred > 0.5)\n",
    "        train_acc = (predicted == y_train).sum().float() / len(y_train)\n",
    "        training_loss.append(loss.item()) # keep track of our training loss\n",
    "\n",
    "        if (t % printEvery == 0):\n",
    "            print(\"Training: [EPOCH]: %i, [LOSS]: %.6f, [ACCURACY]: %.3f\" % (t, loss.item(), train_acc))\n",
    "            display.clear_output(wait=True)\n",
    "            plt.figure( figsize = (5,5) )            \n",
    "            plot_model(x_val, y_val, model, plt.gca())\n",
    "            plt.title(\"Training: [EPOCH]: %i, [LOSS]: %.6f, [ACCURACY]: %.3f\" % (t, loss.item(), train_acc))\n",
    "            plt.pause(0.000001)\n",
    "            plt.show()\n",
    "        \n",
    "    return training_loss # In case we want to plot them afterwards"
   ]
  },
  {
   "cell_type": "markdown",
   "id": "620925c6-2eaf-415e-aa5e-c10f0fb9ed5a",
   "metadata": {},
   "source": [
    "Let's now use the training function, and plot the evolution of the loss"
   ]
  },
  {
   "cell_type": "code",
   "execution_count": 29,
   "id": "bc684b72-b71f-46ca-bdfa-9c880d6a5b80",
   "metadata": {
    "tags": []
   },
   "outputs": [
    {
     "data": {
      "image/png": "[encoded data removed]",
      "text/plain": [
       "<Figure size 360x360 with 1 Axes>"
      ]
     },
     "metadata": {},
     "output_type": "display_data"
    },
    {
     "data": {
      "text/plain": [
       "[<matplotlib.lines.Line2D at 0x21e2a7a7d48>]"
      ]
     },
     "execution_count": 29,
     "metadata": {},
     "output_type": "execute_result"
    },
    {
     "data": {
      "image/png": "[encoded data removed]",
      "text/plain": [
       "<Figure size 432x288 with 1 Axes>"
      ]
     },
     "metadata": {
      "needs_background": "light"
     },
     "output_type": "display_data"
    }
   ],
   "source": [
    "losses = train(x_train, y_train.float(), criterion, modelLogistic, optimizer, epochs=500, printEvery = 10)\n",
    "\n",
    "plt.plot(losses)"
   ]
  },
  {
   "cell_type": "markdown",
   "id": "288049e4-03b2-44e3-9048-74818134f672",
   "metadata": {},
   "source": [
    "We also might want to evaluate our final model over the validation set. We will use the same criterion as before. When evaluating, we do not need to calculate gradients, so we can tell PyTorch to skip this (this should make our code a bit faster)"
   ]
  },
  {
   "cell_type": "code",
   "execution_count": 30,
   "id": "1ae8b8b8-5669-4a02-875d-193b75e934fa",
   "metadata": {},
   "outputs": [],
   "source": [
    "# A helper function that calculates our loss and accuracy on a given dataset (by default on our validation set)\n",
    "def evaluateModel(x, y, criterion, model):\n",
    "\n",
    "    # set model in evaluation mode\n",
    "    model.eval()\n",
    "    with torch.no_grad(): # do not compute gradients for validation\n",
    "        y_pred = model(x)\n",
    "        y_pred = y_pred.squeeze()\n",
    "\n",
    "    # compute loss and accuracy \n",
    "    predicted = (y_pred > 0.5)\n",
    "    loss = criterion(y_pred, y)\n",
    "    acc = (predicted == y_train).sum().float() / len(y_train)    \n",
    "\n",
    "    return loss, acc"
   ]
  },
  {
   "cell_type": "code",
   "execution_count": 31,
   "id": "1b86603f-6b3c-4326-be6c-a3189166d84d",
   "metadata": {},
   "outputs": [
    {
     "data": {
      "text/plain": [
       "(tensor(0.0736), tensor(0.5133))"
      ]
     },
     "execution_count": 31,
     "metadata": {},
     "output_type": "execute_result"
    }
   ],
   "source": [
    "evaluateModel(x_val, y_val, criterion, modelLogistic)"
   ]
  },
  {
   "cell_type": "markdown",
   "id": "5013de47-fa82-4e21-9c9c-03b40da93af1",
   "metadata": {},
   "source": [
    "Let's plot again the final result"
   ]
  },
  {
   "cell_type": "code",
   "execution_count": 32,
   "id": "4ddc8a33-2e76-405f-ba6f-4082ed24e0d4",
   "metadata": {},
   "outputs": [
    {
     "data": {
      "image/png": "[encoded data removed]",
      "text/plain": [
       "<Figure size 360x360 with 1 Axes>"
      ]
     },
     "metadata": {},
     "output_type": "display_data"
    }
   ],
   "source": [
    "plt.figure( figsize = (5,5) )\n",
    "plot_model(x_val, y_val, modelLogistic, plt.gca())"
   ]
  },
  {
   "cell_type": "markdown",
   "id": "cdb0b0eb-5cac-4836-a670-2c10e19f645e",
   "metadata": {},
   "source": [
    "## 12.2 A non-linearly separable scenario"
   ]
  },
  {
   "cell_type": "markdown",
   "id": "321607bb-6fa8-455a-a32f-e75a56a0ed53",
   "metadata": {},
   "source": [
    "Now we will make things a bit more difficult, and define a scenario which is not linearly separable"
   ]
  },
  {
   "cell_type": "code",
   "execution_count": 33,
   "id": "1dd4e626-2802-4ca6-ae3f-9845331de94a",
   "metadata": {},
   "outputs": [],
   "source": [
    "from sklearn.datasets import make_circles\n",
    "\n",
    "N = 300 # number of sample\n",
    "\n",
    "x_train, y_train = make_circles(n_samples = N, noise = 0.1, random_state=7, factor=0.4) # training data\n",
    "x_val, y_val = make_circles(n_samples = N, noise = 0.1, random_state=7, factor=0.4) # training data"
   ]
  },
  {
   "cell_type": "code",
   "execution_count": 34,
   "id": "94094a80-8eee-45f3-ae36-99129188db53",
   "metadata": {},
   "outputs": [],
   "source": [
    "x_train = torch.from_numpy(x_train).float()\n",
    "y_train = torch.from_numpy(y_train).float()\n",
    "x_val = torch.from_numpy(x_val).float()\n",
    "y_val = torch.from_numpy(y_val).float()"
   ]
  },
  {
   "cell_type": "code",
   "execution_count": 35,
   "id": "8c8f54f4-b0b2-4e6a-9513-acc258531a1d",
   "metadata": {
    "tags": []
   },
   "outputs": [
    {
     "data": {
      "text/plain": [
       "(-2.0, 2.0)"
      ]
     },
     "execution_count": 35,
     "metadata": {},
     "output_type": "execute_result"
    },
    {
     "data": {
      "image/png": "[encoded data removed]",
      "text/plain": [
       "<Figure size 360x360 with 1 Axes>"
      ]
     },
     "metadata": {
      "needs_background": "light"
     },
     "output_type": "display_data"
    }
   ],
   "source": [
    "plt.figure(figsize = (5,5))\n",
    "plt.scatter(x_train[y_train == 0,0], x_train[y_train == 0,1], marker = \".\", c = \"blue\")\n",
    "plt.scatter(x_train[y_train == 1,0], x_train[y_train == 1,1], marker = \"x\", c = \"red\")\n",
    "plt.ylim(-2, 2)\n",
    "plt.xlim(-2, 2)"
   ]
  },
  {
   "cell_type": "markdown",
   "id": "3ed83b15-601d-4b2f-8366-ce6a7088e8c2",
   "metadata": {},
   "source": [
    "We will also define our simple logistic model, although we do not expect it to do much here."
   ]
  },
  {
   "cell_type": "code",
   "execution_count": 36,
   "id": "be486293-c648-4c10-84a9-f91c68ec856a",
   "metadata": {},
   "outputs": [],
   "source": [
    "modelLogistic = nn.Sequential(\n",
    "    nn.Linear(dIn, 1),\n",
    "    nn.Sigmoid()\n",
    ")"
   ]
  },
  {
   "cell_type": "code",
   "execution_count": 37,
   "id": "2f8b27c2-2f09-4ae8-81a0-e7e6f7afb6d7",
   "metadata": {},
   "outputs": [],
   "source": [
    "criterion = torch.nn.BCELoss()"
   ]
  },
  {
   "cell_type": "code",
   "execution_count": 38,
   "id": "a2a049b0-afe6-45ec-8219-43139432e190",
   "metadata": {
    "tags": []
   },
   "outputs": [],
   "source": [
    "learning_rate = 0.3\n",
    "\n",
    "# we use the optim package to apply gradient descent for our parameter updates\n",
    "optimizer = torch.optim.SGD(modelLogistic.parameters(), lr=learning_rate)"
   ]
  },
  {
   "cell_type": "code",
   "execution_count": 55,
   "id": "762f0e74-8a21-409e-8a6f-ce9cec9885f0",
   "metadata": {
    "tags": []
   },
   "outputs": [
    {
     "data": {
      "image/png": "[encoded data removed]",
      "text/plain": [
       "<Figure size 360x360 with 1 Axes>"
      ]
     },
     "metadata": {},
     "output_type": "display_data"
    },
    {
     "data": {
      "text/plain": [
       "[<matplotlib.lines.Line2D at 0x21e2aa890c8>]"
      ]
     },
     "execution_count": 55,
     "metadata": {},
     "output_type": "execute_result"
    },
    {
     "data": {
      "image/png": "[encoded data removed]",
      "text/plain": [
       "<Figure size 432x288 with 1 Axes>"
      ]
     },
     "metadata": {
      "needs_background": "light"
     },
     "output_type": "display_data"
    }
   ],
   "source": [
    "losses = train(x_train, y_train.float(), criterion, modelLogistic, optimizer, epochs=5000)\n",
    "\n",
    "plt.plot(losses)"
   ]
  },
  {
   "cell_type": "code",
   "execution_count": 40,
   "id": "d072650a-8c53-46bc-a325-7555968e9d5c",
   "metadata": {},
   "outputs": [
    {
     "data": {
      "text/plain": [
       "(tensor(0.6930), tensor(0.4967))"
      ]
     },
     "execution_count": 40,
     "metadata": {},
     "output_type": "execute_result"
    }
   ],
   "source": [
    "evaluateModel(x_val, y_val, criterion, modelLogistic)"
   ]
  },
  {
   "cell_type": "markdown",
   "id": "1bb03437-dd39-4d5f-86e5-343c593514e9",
   "metadata": {},
   "source": [
    "As expected, our accuracy is close to 50%, meaning that the model is only able to classify half of the points correctly."
   ]
  },
  {
   "cell_type": "code",
   "execution_count": 41,
   "id": "62444fe0-1e48-4879-8d0f-9ea5a8ea0540",
   "metadata": {},
   "outputs": [
    {
     "data": {
      "image/png": "[encoded data removed]",
      "text/plain": [
       "<Figure size 360x360 with 1 Axes>"
      ]
     },
     "metadata": {},
     "output_type": "display_data"
    }
   ],
   "source": [
    "plt.figure( figsize = (5,5) )\n",
    "plot_model(x_val, y_val, modelLogistic, plt.gca())"
   ]
  },
  {
   "cell_type": "markdown",
   "id": "c2dbd4c9-e513-48e6-838f-e32a187a9cf8",
   "metadata": {},
   "source": [
    "We should try a more complex model. Now we will add a hidden layer, with dimensionality 2 (two neurons in the hidden layer)"
   ]
  },
  {
   "cell_type": "code",
   "execution_count": 42,
   "id": "af4de193-4aa4-4c88-8ef5-8c7625b404c9",
   "metadata": {},
   "outputs": [],
   "source": [
    "dIn = 2\n",
    "dHidden = 2\n",
    "\n",
    "modelMLP = nn.Sequential(\n",
    "    nn.Linear(dIn, dHidden),\n",
    "    nn.Sigmoid(),\n",
    "    nn.Linear(dHidden, 1),\n",
    "    nn.Sigmoid()\n",
    ")"
   ]
  },
  {
   "cell_type": "markdown",
   "id": "dc5c5e4a-739e-4eaa-937e-11356e6923c6",
   "metadata": {},
   "source": [
    "<font color=blue>Can you explain what the above model does? </font>"
   ]
  },
  {
   "cell_type": "markdown",
   "id": "35de0dc3-e744-4ddd-951f-bc60932a5e18",
   "metadata": {},
   "source": [
    "---\n",
    "\n",
    "*YOUR RESPONSE HERE*\n",
    "\n",
    "---\n"
   ]
  },
  {
   "cell_type": "code",
   "execution_count": 43,
   "id": "438b05f7-7d8c-435e-a0b0-57201d8c991a",
   "metadata": {},
   "outputs": [],
   "source": [
    "criterion = torch.nn.BCELoss()"
   ]
  },
  {
   "cell_type": "code",
   "execution_count": 44,
   "id": "d50db49c-939e-47f5-93fc-0072e87c389f",
   "metadata": {
    "tags": []
   },
   "outputs": [],
   "source": [
    "learning_rate = 0.3\n",
    "\n",
    "# we use the optim package to apply gradient descent for our parameter updates\n",
    "optimizer = torch.optim.SGD(modelMLP.parameters(), lr=learning_rate)"
   ]
  },
  {
   "cell_type": "code",
   "execution_count": 45,
   "id": "f8d9c115-6b5b-4b5c-81d4-20d8ed242cd0",
   "metadata": {
    "tags": []
   },
   "outputs": [
    {
     "data": {
      "image/png": "[encoded data removed]",
      "text/plain": [
       "<Figure size 360x360 with 1 Axes>"
      ]
     },
     "metadata": {},
     "output_type": "display_data"
    },
    {
     "data": {
      "text/plain": [
       "[<matplotlib.lines.Line2D at 0x21e2aa08848>]"
      ]
     },
     "execution_count": 45,
     "metadata": {},
     "output_type": "execute_result"
    },
    {
     "data": {
      "image/png": "[encoded data removed]",
      "text/plain": [
       "<Figure size 432x288 with 1 Axes>"
      ]
     },
     "metadata": {
      "needs_background": "light"
     },
     "output_type": "display_data"
    }
   ],
   "source": [
    "losses = train(x_train, y_train.float(), criterion, modelMLP, optimizer, epochs=5000)\n",
    "\n",
    "plt.plot(losses)"
   ]
  },
  {
   "cell_type": "code",
   "execution_count": 46,
   "id": "84bd71ba-3125-4932-bed6-91ef9736a039",
   "metadata": {},
   "outputs": [
    {
     "data": {
      "text/plain": [
       "(tensor(0.4308), tensor(0.8000))"
      ]
     },
     "execution_count": 46,
     "metadata": {},
     "output_type": "execute_result"
    }
   ],
   "source": [
    "evaluateModel(x_val, y_val, criterion, modelMLP)"
   ]
  },
  {
   "cell_type": "code",
   "execution_count": 47,
   "id": "623195a7-6fb1-413c-879e-54e7624ef916",
   "metadata": {},
   "outputs": [
    {
     "data": {
      "image/png": "[encoded data removed]",
      "text/plain": [
       "<Figure size 360x360 with 1 Axes>"
      ]
     },
     "metadata": {},
     "output_type": "display_data"
    }
   ],
   "source": [
    "plt.figure( figsize = (5,5) )\n",
    "plot_model(x_val, y_val, modelMLP, plt.gca())"
   ]
  },
  {
   "cell_type": "markdown",
   "id": "4a7e87e4-5382-47e5-9142-db479cc35b04",
   "metadata": {},
   "source": [
    "<font color=blue>Can you change your network and train it again so that it has 3 neurons in the hidden layer? </font>"
   ]
  },
  {
   "cell_type": "code",
   "execution_count": 48,
   "id": "4fd4cd0c-96e2-4209-9285-29587590a8b1",
   "metadata": {},
   "outputs": [],
   "source": [
    "# YOUR CODE HERE\n"
   ]
  },
  {
   "cell_type": "markdown",
   "id": "5269edde-9b16-4aa2-a8bf-0b81b9e31b59",
   "metadata": {},
   "source": [
    "<font color=blue>Now train your new model for 7000 epochs? </font>"
   ]
  },
  {
   "cell_type": "code",
   "execution_count": 49,
   "id": "6fe0bb7f-8691-4426-88eb-0798c9ff3b71",
   "metadata": {},
   "outputs": [],
   "source": [
    "# YOUR CODE HERE\n"
   ]
  },
  {
   "cell_type": "markdown",
   "id": "8876c8cf-1629-4d91-9f24-c50c14828dd1",
   "metadata": {},
   "source": [
    "<font color=blue>Evaluate your model over the validation set. What is your accuracy? </font>"
   ]
  },
  {
   "cell_type": "code",
   "execution_count": 50,
   "id": "a99dbe9a-b414-4742-a59b-4ca6d35fe93e",
   "metadata": {},
   "outputs": [],
   "source": [
    "# YOUR CODE HERE\n"
   ]
  },
  {
   "cell_type": "markdown",
   "id": "ce4d1638-0723-4196-b9e9-6b6185a073f8",
   "metadata": {},
   "source": [
    "<font color=blue>How many parameters are there in the first layer? </font>"
   ]
  },
  {
   "cell_type": "markdown",
   "id": "aa5da35f-8f28-4860-aeda-f92344260966",
   "metadata": {},
   "source": [
    "---\n",
    "\n",
    "*YOUR RESPONSE HERE*\n",
    "\n",
    "---\n"
   ]
  },
  {
   "cell_type": "markdown",
   "id": "2e06da8f-da78-43eb-a7be-419e165d8c19",
   "metadata": {},
   "source": [
    "<font color=blue>Can you add one more hidden layer to your model, and train it again for an adecuate number of epochs? Then evaluate your solution over the validation set. </font>"
   ]
  },
  {
   "cell_type": "code",
   "execution_count": 51,
   "id": "ffcbb9b7-e624-4df7-a0cb-f218c0d03dd0",
   "metadata": {},
   "outputs": [],
   "source": [
    "# YOUR CODE HERE\n"
   ]
  },
  {
   "cell_type": "markdown",
   "id": "89dbb46e-a870-4d7f-9e87-c6319fd12bdb",
   "metadata": {},
   "source": [
    "## Annex"
   ]
  },
  {
   "cell_type": "markdown",
   "id": "afaec5a6-4279-4f5b-9d44-632e07e996a9",
   "metadata": {},
   "source": [
    "There is an alternative way to define neural networks in PyTorch, which provides much more flexibility. It involves creating a class for your model, that derives from the nn.Module class.\n",
    "\n",
    "In the initialisation function of the class (that is executed automatically when you create an object of this class), you need to define all the elements that you will use: the layers and activation functions you will use.\n",
    "\n",
    "There is a special function that is called `forward()` which is called by the framework every time a forward pass needs to be calculated, passing through the input data. You need to redefine this forward pass to treat the input data the way you want, which means define the sequence of operations that you want to apply to the input data."
   ]
  },
  {
   "cell_type": "code",
   "execution_count": 52,
   "id": "1adee58a-4020-4d56-9a75-381c5882f786",
   "metadata": {},
   "outputs": [],
   "source": [
    "dIn = 2\n",
    "dHidden = 40"
   ]
  },
  {
   "cell_type": "code",
   "execution_count": 53,
   "id": "1b3fb37c-cb2f-4689-8a03-7dc18b2862eb",
   "metadata": {},
   "outputs": [],
   "source": [
    "import torch.nn as nn\n",
    "\n",
    "class SimpleMLP(nn.Module):\n",
    "\n",
    "    def __init__(self, inDim, hiddenDim):\n",
    "        super().__init__()\n",
    "        self.fc1 = nn.Linear(inDim, hiddenDim)\n",
    "        self.activation1 = nn.Sigmoid()\n",
    "        self.fc2 = nn.Linear(hiddenDim, 1)\n",
    "        self.activation2 = nn.Sigmoid()\n",
    "    \n",
    "    def forward(self, x):\n",
    "        out = self.fc1(x)\n",
    "        out = self.activation1(out)\n",
    "        out = self.fc2(out)\n",
    "        out = self.activation2(out)\n",
    "        return out\n",
    "    \n",
    "modelMLP = SimpleMLP(dIn, dHidden)"
   ]
  },
  {
   "cell_type": "code",
   "execution_count": 54,
   "id": "e91e3b3b-460f-4c54-802e-907951791e34",
   "metadata": {},
   "outputs": [],
   "source": [
    "import torch.nn as nn\n",
    "\n",
    "class LogisticRegression(nn.Module):\n",
    "\n",
    "    def __init__(self, inDim):\n",
    "        super().__init__()\n",
    "        self.fc1 = nn.Linear(inDim, 1)\n",
    "        self.activation1 = nn.Sigmoid()\n",
    "    \n",
    "    def forward(self, x):\n",
    "        out = self.fc1(x)\n",
    "        out = self.activation1(out)\n",
    "        return out\n",
    "    \n",
    "modelLogistic = LogisticRegression(dIn)"
   ]
  }
 ],
 "metadata": {
  "kernelspec": {
   "display_name": "analysis",
   "language": "python",
   "name": "analysis"
  },
  "language_info": {
   "codemirror_mode": {
    "name": "ipython",
    "version": 3
   },
   "file_extension": ".py",
   "mimetype": "text/x-python",
   "name": "python",
   "nbconvert_exporter": "python",
   "pygments_lexer": "ipython3",
   "version": "3.7.9"
  }
 },
 "nbformat": 4,
 "nbformat_minor": 5
}
