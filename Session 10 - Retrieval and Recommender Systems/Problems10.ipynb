{
 "cells": [
  {
   "cell_type": "markdown",
   "metadata": {},
   "source": [
    "# Problems 10 - Information Retrieval and Recommender Systems"
   ]
  },
  {
   "cell_type": "markdown",
   "metadata": {},
   "source": [
    "## 10.1 Information Retrieval - an online shop"
   ]
  },
  {
   "cell_type": "markdown",
   "metadata": {},
   "source": [
    "Your online shop, sells 80 different products. You recently contracted a company to implement a \"search\" functionality for your shop. The company has just delivered their new retrieval system, and you are now testing it out.\n",
    "\n",
    "You try the system, with a specific query, and the system displays the 10 products with the following IDs on the first page:"
   ]
  },
  {
   "cell_type": "code",
   "execution_count": 1,
   "metadata": {},
   "outputs": [],
   "source": [
    "import numpy as np\n",
    "\n",
    "result = np.array([ 2, 20, 36, 41, 44,  6, 71, 79, 78,  9])"
   ]
  },
  {
   "cell_type": "markdown",
   "metadata": {},
   "source": [
    "You know that for the query you tried out, the relevant products are the ones with ids:"
   ]
  },
  {
   "cell_type": "code",
   "execution_count": 2,
   "metadata": {},
   "outputs": [],
   "source": [
    "relevant_idx = np.array([ 2,  3,  5,  9, 14, 20, 36, 38, 39, 44, 48, 54, 58, 71, 75, 77, 78])"
   ]
  },
  {
   "cell_type": "markdown",
   "metadata": {},
   "source": [
    "<font color=blue> How many relevant items did the system return? </font>"
   ]
  },
  {
   "cell_type": "code",
   "execution_count": 3,
   "metadata": {},
   "outputs": [],
   "source": [
    "# YOUR CODE HERE\n"
   ]
  },
  {
   "cell_type": "markdown",
   "metadata": {},
   "source": [
    "</br>\n",
    "\n",
    "<font color=blue> What is the Precision, Recall and F1-score values for the above query? </font>\n",
    "\n",
    "Remember:\n",
    "\n",
    "$P = \\frac{\\lvert ret \\cap rel \\rvert}{ret}$\n",
    "\n",
    "$R = \\frac{\\lvert ret \\cap rel \\rvert}{rel}$\n",
    "\n",
    "$F = \\frac{2 P R}{P + R}$"
   ]
  },
  {
   "cell_type": "code",
   "execution_count": 4,
   "metadata": {},
   "outputs": [],
   "source": [
    "# YOUR CODE HERE\n"
   ]
  },
  {
   "cell_type": "markdown",
   "metadata": {},
   "source": [
    "The retrieval system only displays the ten best products on the first page, but internally it has scored all the products in the database against the query. For the same query as before, the scores for all 80 products that the system has calculated are given in the list below. The higher the number, the better it matches the query."
   ]
  },
  {
   "cell_type": "code",
   "execution_count": 5,
   "metadata": {},
   "outputs": [],
   "source": [
    "scores = np.array([76.25960904, 37.2712716 , 97.43522538, 85.2135435 , 38.42166524,\n",
    "       59.33358171, 90.84382517, 34.59173848, 53.24126568, 87.80759099,\n",
    "       71.13477237, 52.24501123, 53.84857359, 72.34145019, 82.60724712,\n",
    "       60.13854056, 50.02218001, 67.69020948, 49.20740763, 48.19740307,\n",
    "       97.26734714, 33.43817817, 46.61489   , 45.70630798, 12.03883746,\n",
    "       43.71217679, 66.03930779, 76.31438734, 10.98192963, 29.80459484,\n",
    "       14.7397168 , 21.48280983, 39.81730095, 28.18530124, 36.35538331,\n",
    "       55.10834932, 95.5515258 , 13.10765296, 86.70784949, 81.82826684,\n",
    "       55.79913761, 94.58702549, 79.3577133 , 72.84811652, 92.9954021 ,\n",
    "       78.36304059, 62.00806942, 16.43752292, 83.44531762, 82.46218716,\n",
    "       10.26819206, 64.56747866, 61.1888231 , 11.73771   , 36.15240615,\n",
    "       63.08775437, 18.5772151 , 15.75830887, 40.75549881, 68.84171716,\n",
    "       16.72596633, 57.49016213, 51.46845883, 23.56191592, 43.31518323,\n",
    "       74.93840142, 25.68485212, 26.20211702, 27.50582533, 63.53842237,\n",
    "       28.30218436, 89.65913426, 31.90662515, 41.68472171, 69.13468994,\n",
    "       36.35852244, 19.61632789, 79.82716108, 88.39815675, 88.55666924])"
   ]
  },
  {
   "cell_type": "markdown",
   "metadata": {},
   "source": [
    "</br>\n",
    "\n",
    "<font color=blue> Can you calculate the Precision and Recall if you displayed 20 or 40 products on the first page? </font>\n",
    "\n",
    "> Note 1: This is what we would call P@20, R@20, P@40, R@40.\n",
    "\n",
    "> Note 2: Have a look at the Numpy function `argsort()` to solve this problem  ( https://numpy.org/doc/1.18/reference/generated/numpy.argsort.html )."
   ]
  },
  {
   "cell_type": "code",
   "execution_count": 6,
   "metadata": {},
   "outputs": [
    {
     "name": "stdout",
     "output_type": "stream",
     "text": [
      "Sorted values: [ 1  5 10]\n",
      "Sorted values: [1 2 0]\n"
     ]
    }
   ],
   "source": [
    "# Hint\n",
    "\n",
    "# Suppose you have a list of numbers like this:\n",
    "a = np.array([10,1,5])\n",
    "\n",
    "# You can short the values from smaller to larger, by using np.sort()\n",
    "print(\"Sorted values:\", np.sort(a))\n",
    "\n",
    "# You can short the indices, by using np.argsort()\n",
    "print(\"Sorted values:\", np.argsort(a))"
   ]
  },
  {
   "cell_type": "code",
   "execution_count": 7,
   "metadata": {},
   "outputs": [],
   "source": [
    "# YOUR CODE HERE\n"
   ]
  },
  {
   "cell_type": "markdown",
   "metadata": {},
   "source": [
    "</br>\n",
    "\n",
    "<font color=blue> In order to get an overall idea about how good the retrieval is, draw the Precision/Recall plot </font>"
   ]
  },
  {
   "cell_type": "code",
   "execution_count": 8,
   "metadata": {},
   "outputs": [],
   "source": [
    "# YOUR CODE HERE\n"
   ]
  },
  {
   "cell_type": "markdown",
   "metadata": {},
   "source": [
    "</br>\n",
    "\n",
    "<font color=blue> Now calculate the Average Precision value. </font>\n",
    "\n",
    "<i> Remember: </i>\n",
    "\n",
    "$AP = \\displaystyle\\sum_{k=1}^{N} P(k) \\Delta R(k)$\n",
    "\n",
    "or\n",
    "\n",
    "$AP = \\displaystyle \\frac{\\sum_{k=1}^{N} P(k) rel(k)}{|rel|}$\n",
    "\n",
    "where $rel(k)$ is in $\\{0,1\\}$ indicates if item $k$ is relevant or not"
   ]
  },
  {
   "cell_type": "code",
   "execution_count": 9,
   "metadata": {},
   "outputs": [],
   "source": [
    "# YOUR CODE HERE\n"
   ]
  },
  {
   "cell_type": "markdown",
   "metadata": {},
   "source": [
    "## 10.2 Recommender Systems"
   ]
  },
  {
   "cell_type": "markdown",
   "metadata": {},
   "source": [
    "You are working on a movie recommendation system, and you have been given the following ratings table.\n",
    "\n",
    "Each row corresponds to a user, and each column to a movie. Ratings are between 1 and 5 stars, while a rating equal to `None` (NaN) means that the user has not rated that particular movie."
   ]
  },
  {
   "cell_type": "code",
   "execution_count": 10,
   "metadata": {},
   "outputs": [],
   "source": [
    "import pandas as pd"
   ]
  },
  {
   "cell_type": "code",
   "execution_count": 11,
   "metadata": {},
   "outputs": [
    {
     "data": {
      "text/html": [
       "<div>\n",
       "<style scoped>\n",
       "    .dataframe tbody tr th:only-of-type {\n",
       "        vertical-align: middle;\n",
       "    }\n",
       "\n",
       "    .dataframe tbody tr th {\n",
       "        vertical-align: top;\n",
       "    }\n",
       "\n",
       "    .dataframe thead th {\n",
       "        text-align: right;\n",
       "    }\n",
       "</style>\n",
       "<table border=\"1\" class=\"dataframe\">\n",
       "  <thead>\n",
       "    <tr style=\"text-align: right;\">\n",
       "      <th></th>\n",
       "      <th>Movie 0</th>\n",
       "      <th>Movie 1</th>\n",
       "      <th>Movie 2</th>\n",
       "      <th>Movie 3</th>\n",
       "      <th>Movie 4</th>\n",
       "      <th>Movie 5</th>\n",
       "      <th>Movie 6</th>\n",
       "      <th>Movie 7</th>\n",
       "      <th>Movie 8</th>\n",
       "      <th>Movie 9</th>\n",
       "      <th>Movie 10</th>\n",
       "      <th>Movie 11</th>\n",
       "      <th>Movie 12</th>\n",
       "      <th>Movie 13</th>\n",
       "      <th>Movie 14</th>\n",
       "    </tr>\n",
       "  </thead>\n",
       "  <tbody>\n",
       "    <tr>\n",
       "      <th>User 0</th>\n",
       "      <td>4.0</td>\n",
       "      <td>1.0</td>\n",
       "      <td>5</td>\n",
       "      <td>2.0</td>\n",
       "      <td>4.0</td>\n",
       "      <td>5</td>\n",
       "      <td>NaN</td>\n",
       "      <td>1.0</td>\n",
       "      <td>3.0</td>\n",
       "      <td>1.0</td>\n",
       "      <td>5.0</td>\n",
       "      <td>1.0</td>\n",
       "      <td>5.0</td>\n",
       "      <td>NaN</td>\n",
       "      <td>NaN</td>\n",
       "    </tr>\n",
       "    <tr>\n",
       "      <th>User 1</th>\n",
       "      <td>5.0</td>\n",
       "      <td>1.0</td>\n",
       "      <td>3</td>\n",
       "      <td>5.0</td>\n",
       "      <td>1.0</td>\n",
       "      <td>2</td>\n",
       "      <td>4.0</td>\n",
       "      <td>3.0</td>\n",
       "      <td>NaN</td>\n",
       "      <td>NaN</td>\n",
       "      <td>5.0</td>\n",
       "      <td>1.0</td>\n",
       "      <td>4.0</td>\n",
       "      <td>1.0</td>\n",
       "      <td>NaN</td>\n",
       "    </tr>\n",
       "    <tr>\n",
       "      <th>User 2</th>\n",
       "      <td>1.0</td>\n",
       "      <td>NaN</td>\n",
       "      <td>1</td>\n",
       "      <td>NaN</td>\n",
       "      <td>5.0</td>\n",
       "      <td>1</td>\n",
       "      <td>5.0</td>\n",
       "      <td>4.0</td>\n",
       "      <td>2.0</td>\n",
       "      <td>1.0</td>\n",
       "      <td>1.0</td>\n",
       "      <td>NaN</td>\n",
       "      <td>4.0</td>\n",
       "      <td>1.0</td>\n",
       "      <td>2.0</td>\n",
       "    </tr>\n",
       "    <tr>\n",
       "      <th>User 3</th>\n",
       "      <td>NaN</td>\n",
       "      <td>1.0</td>\n",
       "      <td>3</td>\n",
       "      <td>1.0</td>\n",
       "      <td>NaN</td>\n",
       "      <td>1</td>\n",
       "      <td>3.0</td>\n",
       "      <td>4.0</td>\n",
       "      <td>4.0</td>\n",
       "      <td>NaN</td>\n",
       "      <td>5.0</td>\n",
       "      <td>3.0</td>\n",
       "      <td>2.0</td>\n",
       "      <td>NaN</td>\n",
       "      <td>4.0</td>\n",
       "    </tr>\n",
       "    <tr>\n",
       "      <th>User 4</th>\n",
       "      <td>3.0</td>\n",
       "      <td>3.0</td>\n",
       "      <td>4</td>\n",
       "      <td>2.0</td>\n",
       "      <td>NaN</td>\n",
       "      <td>2</td>\n",
       "      <td>4.0</td>\n",
       "      <td>1.0</td>\n",
       "      <td>4.0</td>\n",
       "      <td>NaN</td>\n",
       "      <td>NaN</td>\n",
       "      <td>3.0</td>\n",
       "      <td>NaN</td>\n",
       "      <td>NaN</td>\n",
       "      <td>NaN</td>\n",
       "    </tr>\n",
       "    <tr>\n",
       "      <th>User 5</th>\n",
       "      <td>4.0</td>\n",
       "      <td>NaN</td>\n",
       "      <td>1</td>\n",
       "      <td>2.0</td>\n",
       "      <td>2.0</td>\n",
       "      <td>4</td>\n",
       "      <td>2.0</td>\n",
       "      <td>1.0</td>\n",
       "      <td>2.0</td>\n",
       "      <td>1.0</td>\n",
       "      <td>5.0</td>\n",
       "      <td>3.0</td>\n",
       "      <td>5.0</td>\n",
       "      <td>3.0</td>\n",
       "      <td>4.0</td>\n",
       "    </tr>\n",
       "    <tr>\n",
       "      <th>User 6</th>\n",
       "      <td>2.0</td>\n",
       "      <td>4.0</td>\n",
       "      <td>3</td>\n",
       "      <td>2.0</td>\n",
       "      <td>1.0</td>\n",
       "      <td>2</td>\n",
       "      <td>NaN</td>\n",
       "      <td>NaN</td>\n",
       "      <td>3.0</td>\n",
       "      <td>NaN</td>\n",
       "      <td>5.0</td>\n",
       "      <td>5.0</td>\n",
       "      <td>NaN</td>\n",
       "      <td>NaN</td>\n",
       "      <td>NaN</td>\n",
       "    </tr>\n",
       "    <tr>\n",
       "      <th>User 7</th>\n",
       "      <td>5.0</td>\n",
       "      <td>5.0</td>\n",
       "      <td>5</td>\n",
       "      <td>4.0</td>\n",
       "      <td>4.0</td>\n",
       "      <td>4</td>\n",
       "      <td>2.0</td>\n",
       "      <td>1.0</td>\n",
       "      <td>NaN</td>\n",
       "      <td>1.0</td>\n",
       "      <td>4.0</td>\n",
       "      <td>3.0</td>\n",
       "      <td>5.0</td>\n",
       "      <td>3.0</td>\n",
       "      <td>3.0</td>\n",
       "    </tr>\n",
       "    <tr>\n",
       "      <th>User 8</th>\n",
       "      <td>5.0</td>\n",
       "      <td>1.0</td>\n",
       "      <td>3</td>\n",
       "      <td>NaN</td>\n",
       "      <td>1.0</td>\n",
       "      <td>4</td>\n",
       "      <td>5.0</td>\n",
       "      <td>4.0</td>\n",
       "      <td>NaN</td>\n",
       "      <td>4.0</td>\n",
       "      <td>5.0</td>\n",
       "      <td>NaN</td>\n",
       "      <td>1.0</td>\n",
       "      <td>NaN</td>\n",
       "      <td>NaN</td>\n",
       "    </tr>\n",
       "    <tr>\n",
       "      <th>User 9</th>\n",
       "      <td>2.0</td>\n",
       "      <td>3.0</td>\n",
       "      <td>1</td>\n",
       "      <td>5.0</td>\n",
       "      <td>3.0</td>\n",
       "      <td>1</td>\n",
       "      <td>4.0</td>\n",
       "      <td>1.0</td>\n",
       "      <td>1.0</td>\n",
       "      <td>2.0</td>\n",
       "      <td>5.0</td>\n",
       "      <td>NaN</td>\n",
       "      <td>4.0</td>\n",
       "      <td>NaN</td>\n",
       "      <td>5.0</td>\n",
       "    </tr>\n",
       "  </tbody>\n",
       "</table>\n",
       "</div>"
      ],
      "text/plain": [
       "        Movie 0  Movie 1  Movie 2  Movie 3  Movie 4  Movie 5  Movie 6  \\\n",
       "User 0      4.0      1.0        5      2.0      4.0        5      NaN   \n",
       "User 1      5.0      1.0        3      5.0      1.0        2      4.0   \n",
       "User 2      1.0      NaN        1      NaN      5.0        1      5.0   \n",
       "User 3      NaN      1.0        3      1.0      NaN        1      3.0   \n",
       "User 4      3.0      3.0        4      2.0      NaN        2      4.0   \n",
       "User 5      4.0      NaN        1      2.0      2.0        4      2.0   \n",
       "User 6      2.0      4.0        3      2.0      1.0        2      NaN   \n",
       "User 7      5.0      5.0        5      4.0      4.0        4      2.0   \n",
       "User 8      5.0      1.0        3      NaN      1.0        4      5.0   \n",
       "User 9      2.0      3.0        1      5.0      3.0        1      4.0   \n",
       "\n",
       "        Movie 7  Movie 8  Movie 9  Movie 10  Movie 11  Movie 12  Movie 13  \\\n",
       "User 0      1.0      3.0      1.0       5.0       1.0       5.0       NaN   \n",
       "User 1      3.0      NaN      NaN       5.0       1.0       4.0       1.0   \n",
       "User 2      4.0      2.0      1.0       1.0       NaN       4.0       1.0   \n",
       "User 3      4.0      4.0      NaN       5.0       3.0       2.0       NaN   \n",
       "User 4      1.0      4.0      NaN       NaN       3.0       NaN       NaN   \n",
       "User 5      1.0      2.0      1.0       5.0       3.0       5.0       3.0   \n",
       "User 6      NaN      3.0      NaN       5.0       5.0       NaN       NaN   \n",
       "User 7      1.0      NaN      1.0       4.0       3.0       5.0       3.0   \n",
       "User 8      4.0      NaN      4.0       5.0       NaN       1.0       NaN   \n",
       "User 9      1.0      1.0      2.0       5.0       NaN       4.0       NaN   \n",
       "\n",
       "        Movie 14  \n",
       "User 0       NaN  \n",
       "User 1       NaN  \n",
       "User 2       2.0  \n",
       "User 3       4.0  \n",
       "User 4       NaN  \n",
       "User 5       4.0  \n",
       "User 6       NaN  \n",
       "User 7       3.0  \n",
       "User 8       NaN  \n",
       "User 9       5.0  "
      ]
     },
     "execution_count": 11,
     "metadata": {},
     "output_type": "execute_result"
    }
   ],
   "source": [
    "ratings = pd.read_csv(\"ratings.csv\", index_col = 0)\n",
    "ratings"
   ]
  },
  {
   "cell_type": "markdown",
   "metadata": {},
   "source": [
    "In addition, you are given the following ratings that another user has made for the same movies."
   ]
  },
  {
   "cell_type": "code",
   "execution_count": 12,
   "metadata": {},
   "outputs": [
    {
     "data": {
      "text/plain": [
       "Movie 0     1.0\n",
       "Movie 1     NaN\n",
       "Movie 2     NaN\n",
       "Movie 3     2.0\n",
       "Movie 4     4.0\n",
       "Movie 5     NaN\n",
       "Movie 6     1.0\n",
       "Movie 7     4.0\n",
       "Movie 8     NaN\n",
       "Movie 9     NaN\n",
       "Movie 10    NaN\n",
       "Movie 11    NaN\n",
       "Movie 12    NaN\n",
       "Movie 13    3.0\n",
       "Movie 14    5.0\n",
       "Name: 0, dtype: float64"
      ]
     },
     "execution_count": 12,
     "metadata": {},
     "output_type": "execute_result"
    }
   ],
   "source": [
    "target = pd.read_csv(\"target.csv\", header = 0, index_col=0, squeeze = True)\n",
    "target"
   ]
  },
  {
   "cell_type": "markdown",
   "metadata": {},
   "source": [
    "You are asked to predict the ratings for the movies that the target user has not seen yet, that is for the movies that have a rating of zero in the target user array."
   ]
  },
  {
   "cell_type": "markdown",
   "metadata": {},
   "source": [
    "First, we will calculate the similarity between the target user and each of the users in our ratings table. We will then use the 3 most similar users to derive recommendations.\n",
    "\n",
    "To calculate similarity between users, we will use the Pearson correlation formula:\n",
    "\n",
    "$sim(a, b) = \\frac{\\sum_{p \\in P} (r_{a,p}-\\hat{r_a}) (r_{b,p}-\\hat{r_b}) }{\\sqrt{\\sum_{p \\in P} (r_{a,p}-\\hat{r_a})^2} \\sqrt{\\sum_{p \\in P} (r_{b,p}-\\hat{r_b})^2} }$\n",
    "\n",
    "where a and b are users, and P is the set of the items for which BOTH users have provided ratings.\n",
    "\n",
    "Luckily, pandas has a function for calculating correlation: `DataFrame.corrwith()`. This will calculate the correlation between the target series and every row of the ratings dataframe if we specify that `axis = 1` (row-wise).\n",
    "\n",
    "> See the docs: https://pandas.pydata.org/pandas-docs/stable/reference/api/pandas.DataFrame.corrwith.html?highlight=corrwith#pandas.DataFrame.corrwith"
   ]
  },
  {
   "cell_type": "code",
   "execution_count": 13,
   "metadata": {},
   "outputs": [
    {
     "data": {
      "text/plain": [
       "User 0   -0.333333\n",
       "User 1   -0.751237\n",
       "User 2    0.062994\n",
       "User 3    0.645497\n",
       "User 4   -0.912871\n",
       "User 5   -0.040032\n",
       "User 6   -0.944911\n",
       "User 7   -0.303697\n",
       "User 8   -0.762493\n",
       "User 9    0.023702\n",
       "dtype: float64"
      ]
     },
     "execution_count": 13,
     "metadata": {},
     "output_type": "execute_result"
    }
   ],
   "source": [
    "similarity = ratings.corrwith(target, axis = 1, method = 'pearson') # This function calculates everything based on common items (e.g. mean of user is calculated based only on the common items with that other user we correlate with)\n",
    "similarity"
   ]
  },
  {
   "cell_type": "markdown",
   "metadata": {},
   "source": [
    "In order to predict accurate preferences, we should only take into account users that have a minimum number of items in common to our target user. This minimum is up to us to define (depends on your data and your application).\n",
    "\n",
    "First, we need to count how many items each user has in common with our target user.\n",
    "\n",
    "We can calculate this using boolean logic. First we check for which items we have ratings (True) and for which no (False). Then we check for which items we have True in both the ratings data frame AND the target series. Then it is a matter of summing up how many True values we have in every row. This is summarised below, although it would be easier to understand if you do the calculations step by step and print out the result."
   ]
  },
  {
   "cell_type": "code",
   "execution_count": 14,
   "metadata": {},
   "outputs": [
    {
     "name": "stdout",
     "output_type": "stream",
     "text": [
      "        Movie 0  Movie 1  Movie 2  Movie 3  Movie 4  Movie 5  Movie 6  \\\n",
      "User 0     True    False    False     True     True    False    False   \n",
      "User 1     True    False    False     True     True    False     True   \n",
      "User 2     True    False    False    False     True    False     True   \n",
      "User 3    False    False    False     True    False    False     True   \n",
      "User 4     True    False    False     True    False    False     True   \n",
      "User 5     True    False    False     True     True    False     True   \n",
      "User 6     True    False    False     True     True    False    False   \n",
      "User 7     True    False    False     True     True    False     True   \n",
      "User 8     True    False    False    False     True    False     True   \n",
      "User 9     True    False    False     True     True    False     True   \n",
      "\n",
      "        Movie 7  Movie 8  Movie 9  Movie 10  Movie 11  Movie 12  Movie 13  \\\n",
      "User 0     True    False    False     False     False     False     False   \n",
      "User 1     True    False    False     False     False     False      True   \n",
      "User 2     True    False    False     False     False     False      True   \n",
      "User 3     True    False    False     False     False     False     False   \n",
      "User 4     True    False    False     False     False     False     False   \n",
      "User 5     True    False    False     False     False     False      True   \n",
      "User 6    False    False    False     False     False     False     False   \n",
      "User 7     True    False    False     False     False     False      True   \n",
      "User 8     True    False    False     False     False     False     False   \n",
      "User 9     True    False    False     False     False     False     False   \n",
      "\n",
      "        Movie 14  \n",
      "User 0     False  \n",
      "User 1     False  \n",
      "User 2      True  \n",
      "User 3      True  \n",
      "User 4     False  \n",
      "User 5      True  \n",
      "User 6     False  \n",
      "User 7      True  \n",
      "User 8     False  \n",
      "User 9      True  \n"
     ]
    },
    {
     "data": {
      "text/plain": [
       "User 0    4\n",
       "User 1    6\n",
       "User 2    6\n",
       "User 3    4\n",
       "User 4    4\n",
       "User 5    7\n",
       "User 6    3\n",
       "User 7    7\n",
       "User 8    4\n",
       "User 9    6\n",
       "dtype: int64"
      ]
     },
     "execution_count": 14,
     "metadata": {},
     "output_type": "execute_result"
    }
   ],
   "source": [
    "# Find how many items do they have in common\n",
    "commonItems = (~ratings.isna()) & (~target.isna())\n",
    "print(commonItems)\n",
    "nCommon = commonItems.sum(axis = 1)\n",
    "nCommon"
   ]
  },
  {
   "cell_type": "markdown",
   "metadata": {},
   "source": [
    "We can now get the indices of the users that have more than 3 items with the target. This should drop User 6 in this case who only has exactly 3 items in common with the target."
   ]
  },
  {
   "cell_type": "code",
   "execution_count": 15,
   "metadata": {},
   "outputs": [
    {
     "name": "stdout",
     "output_type": "stream",
     "text": [
      "Index(['User 0', 'User 1', 'User 2', 'User 3', 'User 4', 'User 5', 'User 7',\n",
      "       'User 8', 'User 9'],\n",
      "      dtype='object')\n"
     ]
    },
    {
     "data": {
      "text/plain": [
       "User 0   -0.333333\n",
       "User 1   -0.751237\n",
       "User 2    0.062994\n",
       "User 3    0.645497\n",
       "User 4   -0.912871\n",
       "User 5   -0.040032\n",
       "User 7   -0.303697\n",
       "User 8   -0.762493\n",
       "User 9    0.023702\n",
       "dtype: float64"
      ]
     },
     "execution_count": 15,
     "metadata": {},
     "output_type": "execute_result"
    }
   ],
   "source": [
    "minItemsCommon = 3\n",
    "\n",
    "# Get the indices of users with whom we have more than minItemsCommon items in common with the query one\n",
    "idx = nCommon.index[nCommon > minItemsCommon]\n",
    "print (idx)\n",
    "\n",
    "#keep only the users that have more than minItemsCommon with the query\n",
    "similarity = similarity.loc[idx]\n",
    "similarity"
   ]
  },
  {
   "cell_type": "markdown",
   "metadata": {},
   "source": [
    "Now, let's find the 3 most similar users in the remaining ones. We can do that by sorting the similarities series (from larger to smaller) and keeping the first three entries. We can do this using the `sort_values()` function of pandas.\n",
    "\n",
    "> See the documentation here: https://pandas.pydata.org/pandas-docs/stable/reference/api/pandas.DataFrame.sort_values.html"
   ]
  },
  {
   "cell_type": "code",
   "execution_count": 16,
   "metadata": {},
   "outputs": [
    {
     "data": {
      "text/plain": [
       "Index(['User 3', 'User 2', 'User 9'], dtype='object')"
      ]
     },
     "execution_count": 16,
     "metadata": {},
     "output_type": "execute_result"
    }
   ],
   "source": [
    "topN = 3\n",
    "\n",
    "similarity.sort_values(ascending = False, inplace = True)\n",
    "idx = similarity.index[:topN] # get the indices of the top N most similar users\n",
    "idx"
   ]
  },
  {
   "cell_type": "markdown",
   "metadata": {},
   "source": [
    "Now that we have the most similar users, we can use their ratings to derive ratings for the target user. To combine the ratings of the most similar users we will use the formula:\n",
    "\n",
    "$ pred(a, i) = \\hat{r_a} + \\frac{\\sum_{b \\in N} sim(a, b) (r_{b,i} - \\hat{r_b})}{\\sum_{b \\in N} sim(a,b)} $\n",
    "\n",
    "where a and i are the user and item for which we want to predict a rating, and N is the set of similar users we have identified.\n",
    "\n",
    "For example, if we wanted to derive the rating for the Movie 2 (`target[\"Movie 2\"]`), we would combine ratings in the following way:"
   ]
  },
  {
   "cell_type": "code",
   "execution_count": 17,
   "metadata": {},
   "outputs": [
    {
     "name": "stdout",
     "output_type": "stream",
     "text": [
      "\n",
      "user: User 3 Similarity:  0.6454972243679027\n",
      "Has seen the movie: Movie 2\n",
      "Gave it a rating of:  3.0\n",
      "Mean:  2.8181818181818183\n",
      "\n",
      "user: User 2 Similarity:  0.06299407883487121\n",
      "Has seen the movie: Movie 2\n",
      "Gave it a rating of:  1.0\n",
      "Mean:  2.3333333333333335\n",
      "\n",
      "user: User 9 Similarity:  0.023702273156998892\n",
      "Has seen the movie: Movie 2\n",
      "Gave it a rating of:  1.0\n",
      "Mean:  2.8461538461538463\n",
      "\n",
      "The predicted rating for Movie 2 is 2.8429566958644013\n",
      "\n",
      "All ratings of the target user: \n",
      " Movie 0     1.000000\n",
      "Movie 1          NaN\n",
      "Movie 2     2.842957\n",
      "Movie 3     2.000000\n",
      "Movie 4     4.000000\n",
      "Movie 5          NaN\n",
      "Movie 6     1.000000\n",
      "Movie 7     4.000000\n",
      "Movie 8          NaN\n",
      "Movie 9          NaN\n",
      "Movie 10         NaN\n",
      "Movie 11         NaN\n",
      "Movie 12         NaN\n",
      "Movie 13    3.000000\n",
      "Movie 14    5.000000\n",
      "Name: 0, dtype: float64\n"
     ]
    }
   ],
   "source": [
    "m = \"Movie 2\" #The movie we are interested in predicting a rating for\n",
    "\n",
    "# initialise two variables in which we will hold the sums of the numerator and the demoninator of our formula\n",
    "sum_nom = sum_denom = 0 \n",
    "\n",
    "# Loop through the list of similar users\n",
    "for u in idx:\n",
    "    user_ratings = ratings.loc[u] # the row of ratings corresponding to user u\n",
    "    print(\"\\nuser:\", u, \"Similarity: \", similarity[u])\n",
    "    #print(user_ratings)\n",
    "    \n",
    "    # Only use the users that have rated the movie we are interested in\n",
    "    if ~(user_ratings.isna()[m]): \n",
    "        print(\"Has seen the movie:\", m)        \n",
    "        print(\"Gave it a rating of: \", user_ratings[m])        \n",
    "        mu = user_ratings.mean() # Calculate the mean rating of the user, this is based only on movies that have a rating != NaN\n",
    "        print(\"Mean: \", mu)\n",
    "        sum_nom = sum_nom + similarity[u]*(user_ratings[m] - mu) # Nominator\n",
    "        sum_denom = sum_denom + similarity[u] # Denominator\n",
    "    else:\n",
    "        print(\"Has not seen the movie. Ignore.\")\n",
    "\n",
    "if sum_denom != 0: # Check if at least one of the similar users had rated the movie in question, otherwise our denominator would be equal to 0\n",
    "    target[m] = target.mean() + sum_nom / sum_denom\n",
    "    \n",
    "print(\"\\nThe predicted rating for\", m, \"is\", target[m])\n",
    "print(\"\\nAll ratings of the target user: \\n\", target)"
   ]
  },
  {
   "cell_type": "markdown",
   "metadata": {},
   "source": [
    "<font color=blue> Do the same for all the movies that the target user has not rated yet. </font>"
   ]
  },
  {
   "cell_type": "code",
   "execution_count": 18,
   "metadata": {},
   "outputs": [],
   "source": [
    "# YOUR CODE HERE\n"
   ]
  }
 ],
 "metadata": {
  "kernelspec": {
   "display_name": "Python 3",
   "language": "python",
   "name": "python3"
  },
  "language_info": {
   "codemirror_mode": {
    "name": "ipython",
    "version": 3
   },
   "file_extension": ".py",
   "mimetype": "text/x-python",
   "name": "python",
   "nbconvert_exporter": "python",
   "pygments_lexer": "ipython3",
   "version": "3.7.9"
  }
 },
 "nbformat": 4,
 "nbformat_minor": 4
}
