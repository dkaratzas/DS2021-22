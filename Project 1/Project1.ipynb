{
 "cells": [
  {
   "cell_type": "markdown",
   "metadata": {
    "tags": []
   },
   "source": [
    "# Project 1: Driving Accidents and Drivers' Ages (Work in Groups) #\n",
    "\n",
    "The government is considering to introduce new policies for young drivers (passenger restrictions, night driving restrictions, etc) in order to reduce the number of accidents produced by young drivers. A crucial point in the debate is to have some rigid information about whether the younger age is actually correlated with a higher accident rate. Therefore, they are interested to study such statistics from countries where driving is permitted from a young age and produce data that they can present to the debate.\n",
    "\n",
    "You have been tasked to look into the above matter, and after searching open government data you find the following data that relate the driving age with accidents (fatal accidents, or any type of accidents). The data date back in 1998, but are considered representative.\n",
    "\n",
    "This is what you data looks like:\n",
    "\n",
    "|Age group              |Age min|Age max  |Drivers licensed | Fatal accidents | All accidents |\n",
    "|:--------------------- |:-----:|:-------:|:---------------:|:---------------:|:-------------:|\n",
    "|Under 16 years old     |-      | 15      | 31000           | 500             | 120000        |\n",
    "|16 years old           |16     | 16      | 1708000         | 1200            | 620000        |\n",
    "|17 years old           |17     | 17      | 2436000         | 1200            | 720000        |\n",
    "|18 years old           |18     | 18      | 2868000         | 1900            | 780000        |\n",
    "|19 years old           |19     | 19      | 2941000         | 1600            | 700000        |\n",
    "|19 years old and under |-      | 19      | 9984000         | 6400            | 2940000       |\n",
    "|. |. |. |. |. |. |\n",
    "|20 years old           |20     | 20      | 3048000         | 1500            | 630000        |\n",
    "|21 years old           |21     | 21      | 3093000         | 1500            | 600000        |\n",
    "|22 years old           |22     | 22      | 3022000         | 1500            | 550000        |\n",
    "|23 years old           |23     | 23      | 3209000         | 1300            | 520000        |\n",
    "|24 years old           |24     | 24      | 3157000         | 1300            | 500000        |\n",
    "|. |. |. |. |. |. |\n",
    "|20 to 24 years old     |20     | 24      | 15529000        | 7100            | 2800000       |\n",
    "|25 to 34 years old     |25     | 34      | 37265000        | 11900           | 4900000       |\n",
    "|35 to 44 years old     |35     | 44      | 41857000        | 11300           | 4440000       |\n",
    "|45 to 54 years old     |45     | 54      | 33662000        | 7700            | 2940000       |\n",
    "|55 to 64 years old     |55     | 64      | 21337000        | 4600            | 1570000       |\n",
    "|65 to 74 years old     |65     | 74      | 15244000        | 3600            | 1010000       |\n",
    "|75 years old and over  |75     | -       | 10570000        | 3500            | 710000        |\n",
    "\n",
    "*Source: National Safety Council, USA.*\n",
    "\n",
    "We will follow the OSEMN approach as introduced in Lecture 1:\n",
    "\n",
    "* **O**btain data of good quality\n",
    "* **S**crub - examine, clean and complete the data\n",
    "* **E**xplore - Understand what kind of patterns are there in the data\n",
    "* **M**odel - Create predictive models from the data\n",
    "* i**N**terpret - Present and explain your findings\n",
    "\n",
    "Go through the notebook and respond to all the questions."
   ]
  },
  {
   "cell_type": "markdown",
   "metadata": {},
   "source": [
    "## Import Data\n",
    "\n",
    "Our data is given in a CSV file, so we will use the `pandas.read_csv()` function to import all data as a list of dictionaries into a data frame."
   ]
  },
  {
   "cell_type": "code",
   "execution_count": 1,
   "metadata": {},
   "outputs": [
    {
     "data": {
      "text/html": [
       "<div>\n",
       "<style scoped>\n",
       "    .dataframe tbody tr th:only-of-type {\n",
       "        vertical-align: middle;\n",
       "    }\n",
       "\n",
       "    .dataframe tbody tr th {\n",
       "        vertical-align: top;\n",
       "    }\n",
       "\n",
       "    .dataframe thead th {\n",
       "        text-align: right;\n",
       "    }\n",
       "</style>\n",
       "<table border=\"1\" class=\"dataframe\">\n",
       "  <thead>\n",
       "    <tr style=\"text-align: right;\">\n",
       "      <th></th>\n",
       "      <th>Age group</th>\n",
       "      <th>Age min</th>\n",
       "      <th>Age max</th>\n",
       "      <th>Drivers licensed</th>\n",
       "      <th>Fatal accidents</th>\n",
       "      <th>All accidents</th>\n",
       "    </tr>\n",
       "  </thead>\n",
       "  <tbody>\n",
       "    <tr>\n",
       "      <th>0</th>\n",
       "      <td>Under 16 years old</td>\n",
       "      <td>NaN</td>\n",
       "      <td>15.0</td>\n",
       "      <td>31000</td>\n",
       "      <td>500</td>\n",
       "      <td>120000</td>\n",
       "    </tr>\n",
       "    <tr>\n",
       "      <th>1</th>\n",
       "      <td>16 years old</td>\n",
       "      <td>16.0</td>\n",
       "      <td>16.0</td>\n",
       "      <td>1708000</td>\n",
       "      <td>1200</td>\n",
       "      <td>620000</td>\n",
       "    </tr>\n",
       "    <tr>\n",
       "      <th>2</th>\n",
       "      <td>17 years old</td>\n",
       "      <td>17.0</td>\n",
       "      <td>17.0</td>\n",
       "      <td>2436000</td>\n",
       "      <td>1200</td>\n",
       "      <td>720000</td>\n",
       "    </tr>\n",
       "    <tr>\n",
       "      <th>3</th>\n",
       "      <td>18 years old</td>\n",
       "      <td>18.0</td>\n",
       "      <td>18.0</td>\n",
       "      <td>2868000</td>\n",
       "      <td>1900</td>\n",
       "      <td>780000</td>\n",
       "    </tr>\n",
       "    <tr>\n",
       "      <th>4</th>\n",
       "      <td>19 years old</td>\n",
       "      <td>19.0</td>\n",
       "      <td>19.0</td>\n",
       "      <td>2941000</td>\n",
       "      <td>1600</td>\n",
       "      <td>700000</td>\n",
       "    </tr>\n",
       "    <tr>\n",
       "      <th>5</th>\n",
       "      <td>19 years old and under</td>\n",
       "      <td>NaN</td>\n",
       "      <td>19.0</td>\n",
       "      <td>9984000</td>\n",
       "      <td>6400</td>\n",
       "      <td>2940000</td>\n",
       "    </tr>\n",
       "    <tr>\n",
       "      <th>6</th>\n",
       "      <td>20 years old</td>\n",
       "      <td>20.0</td>\n",
       "      <td>20.0</td>\n",
       "      <td>3048000</td>\n",
       "      <td>1500</td>\n",
       "      <td>630000</td>\n",
       "    </tr>\n",
       "    <tr>\n",
       "      <th>7</th>\n",
       "      <td>21 years old</td>\n",
       "      <td>21.0</td>\n",
       "      <td>21.0</td>\n",
       "      <td>3093000</td>\n",
       "      <td>1500</td>\n",
       "      <td>600000</td>\n",
       "    </tr>\n",
       "    <tr>\n",
       "      <th>8</th>\n",
       "      <td>22 years old</td>\n",
       "      <td>22.0</td>\n",
       "      <td>22.0</td>\n",
       "      <td>3022000</td>\n",
       "      <td>1500</td>\n",
       "      <td>550000</td>\n",
       "    </tr>\n",
       "    <tr>\n",
       "      <th>9</th>\n",
       "      <td>23 years old</td>\n",
       "      <td>23.0</td>\n",
       "      <td>23.0</td>\n",
       "      <td>3209000</td>\n",
       "      <td>1300</td>\n",
       "      <td>520000</td>\n",
       "    </tr>\n",
       "    <tr>\n",
       "      <th>10</th>\n",
       "      <td>24 years old</td>\n",
       "      <td>24.0</td>\n",
       "      <td>24.0</td>\n",
       "      <td>3157000</td>\n",
       "      <td>1300</td>\n",
       "      <td>500000</td>\n",
       "    </tr>\n",
       "    <tr>\n",
       "      <th>11</th>\n",
       "      <td>20 to 24 years old</td>\n",
       "      <td>20.0</td>\n",
       "      <td>24.0</td>\n",
       "      <td>15529000</td>\n",
       "      <td>7100</td>\n",
       "      <td>2800000</td>\n",
       "    </tr>\n",
       "    <tr>\n",
       "      <th>12</th>\n",
       "      <td>25 to 34 years old</td>\n",
       "      <td>25.0</td>\n",
       "      <td>34.0</td>\n",
       "      <td>37265000</td>\n",
       "      <td>11900</td>\n",
       "      <td>4900000</td>\n",
       "    </tr>\n",
       "    <tr>\n",
       "      <th>13</th>\n",
       "      <td>35 to 44 years old</td>\n",
       "      <td>35.0</td>\n",
       "      <td>44.0</td>\n",
       "      <td>41857000</td>\n",
       "      <td>11300</td>\n",
       "      <td>4440000</td>\n",
       "    </tr>\n",
       "    <tr>\n",
       "      <th>14</th>\n",
       "      <td>45 to 54 years old</td>\n",
       "      <td>45.0</td>\n",
       "      <td>54.0</td>\n",
       "      <td>33662000</td>\n",
       "      <td>7700</td>\n",
       "      <td>2940000</td>\n",
       "    </tr>\n",
       "    <tr>\n",
       "      <th>15</th>\n",
       "      <td>55 to 64 years old</td>\n",
       "      <td>55.0</td>\n",
       "      <td>64.0</td>\n",
       "      <td>21337000</td>\n",
       "      <td>4600</td>\n",
       "      <td>1570000</td>\n",
       "    </tr>\n",
       "    <tr>\n",
       "      <th>16</th>\n",
       "      <td>65 to 74 years old</td>\n",
       "      <td>65.0</td>\n",
       "      <td>74.0</td>\n",
       "      <td>15244000</td>\n",
       "      <td>3600</td>\n",
       "      <td>1010000</td>\n",
       "    </tr>\n",
       "    <tr>\n",
       "      <th>17</th>\n",
       "      <td>75 years old and over</td>\n",
       "      <td>75.0</td>\n",
       "      <td>NaN</td>\n",
       "      <td>10570000</td>\n",
       "      <td>3500</td>\n",
       "      <td>710000</td>\n",
       "    </tr>\n",
       "  </tbody>\n",
       "</table>\n",
       "</div>"
      ],
      "text/plain": [
       "                 Age group  Age min  Age max  Drivers licensed  \\\n",
       "0       Under 16 years old      NaN     15.0             31000   \n",
       "1             16 years old     16.0     16.0           1708000   \n",
       "2             17 years old     17.0     17.0           2436000   \n",
       "3             18 years old     18.0     18.0           2868000   \n",
       "4             19 years old     19.0     19.0           2941000   \n",
       "5   19 years old and under      NaN     19.0           9984000   \n",
       "6             20 years old     20.0     20.0           3048000   \n",
       "7             21 years old     21.0     21.0           3093000   \n",
       "8             22 years old     22.0     22.0           3022000   \n",
       "9             23 years old     23.0     23.0           3209000   \n",
       "10            24 years old     24.0     24.0           3157000   \n",
       "11      20 to 24 years old     20.0     24.0          15529000   \n",
       "12      25 to 34 years old     25.0     34.0          37265000   \n",
       "13      35 to 44 years old     35.0     44.0          41857000   \n",
       "14      45 to 54 years old     45.0     54.0          33662000   \n",
       "15      55 to 64 years old     55.0     64.0          21337000   \n",
       "16      65 to 74 years old     65.0     74.0          15244000   \n",
       "17   75 years old and over     75.0      NaN          10570000   \n",
       "\n",
       "    Fatal accidents  All accidents  \n",
       "0               500         120000  \n",
       "1              1200         620000  \n",
       "2              1200         720000  \n",
       "3              1900         780000  \n",
       "4              1600         700000  \n",
       "5              6400        2940000  \n",
       "6              1500         630000  \n",
       "7              1500         600000  \n",
       "8              1500         550000  \n",
       "9              1300         520000  \n",
       "10             1300         500000  \n",
       "11             7100        2800000  \n",
       "12            11900        4900000  \n",
       "13            11300        4440000  \n",
       "14             7700        2940000  \n",
       "15             4600        1570000  \n",
       "16             3600        1010000  \n",
       "17             3500         710000  "
      ]
     },
     "execution_count": 1,
     "metadata": {},
     "output_type": "execute_result"
    }
   ],
   "source": [
    "import pandas as pd\n",
    "\n",
    "data = pd.read_csv(\"Data.csv\")\n",
    "data"
   ]
  },
  {
   "cell_type": "markdown",
   "metadata": {},
   "source": [
    "### Question 1\n",
    "\n",
    "<font color=\"blue\">Observe that there are some values missing in the \"Age min\" and \"Age max\" series. These missing values can potentially create problems. Decide what you want to do with these values. For example you could use domain knowledge to fill in the values with an realistic estimate, or discard whole rows of your data... Justify your choices. Remember that the younger ages are important, so you should be careful not to discard information that might potentially be useful.</font>"
   ]
  },
  {
   "cell_type": "code",
   "execution_count": 2,
   "metadata": {},
   "outputs": [],
   "source": [
    "# Your Code Here\n"
   ]
  },
  {
   "cell_type": "markdown",
   "metadata": {},
   "source": [
    "### Question 2\n",
    "\n",
    "<font color=\"blue\">Use the \"average age\" to represent each of the age groups. E.g. the age group of \"20 to 24 years old\" could be represented by their average age of 22.</font>"
   ]
  },
  {
   "cell_type": "code",
   "execution_count": 3,
   "metadata": {},
   "outputs": [],
   "source": [
    "# Your Code Here\n"
   ]
  },
  {
   "cell_type": "markdown",
   "metadata": {},
   "source": [
    "### Question 3\n",
    "\n",
    "<font color=\"blue\">Select the age groups that you will use for the rest of the analysis, and remove the rest from your dataset. You would want to make sure that you do not have repeated information, and that you do not discard any potentially useful data. Justify your choices.</font>"
   ]
  },
  {
   "cell_type": "code",
   "execution_count": 4,
   "metadata": {},
   "outputs": [],
   "source": [
    "# Your Code Here\n"
   ]
  },
  {
   "cell_type": "markdown",
   "metadata": {},
   "source": [
    "---\n",
    "\n",
    "**RESPONSE**\n",
    "\n",
    "...\n",
    "\n",
    "---"
   ]
  },
  {
   "cell_type": "markdown",
   "metadata": {},
   "source": [
    "### Question 4\n",
    "\n",
    "<font color=\"blue\">What percentage of accidents is each age responsible for? Make a plot of your findings and provide an interpretation. Then give an *approximate* estimation of how many Fatal accidents are caused by people aged 42 years, based on your plot.</font>"
   ]
  },
  {
   "cell_type": "code",
   "execution_count": 5,
   "metadata": {},
   "outputs": [],
   "source": [
    "# Your Code Here\n"
   ]
  },
  {
   "cell_type": "markdown",
   "metadata": {},
   "source": [
    "---\n",
    "\n",
    "**RESPONSE**\n",
    "\n",
    "...\n",
    "\n",
    "---"
   ]
  },
  {
   "cell_type": "markdown",
   "metadata": {},
   "source": [
    "### Question 5\n",
    "\n",
    "<font color=\"blue\">The numbers we have reported up to now are absolute numbers: e.g. we just reported \"all accidents produced by all people aged 42 years old\".</font>\n",
    "\n",
    "<font color=\"blue\">Observe that there is a very different number of drivers in each age group. It is not the same to produce 10 accidents between 100 licensed drivers, or 10 accidents between 1 million licensed drivers...</font>\n",
    "\n",
    "<font color=\"blue\">What if we wanted to see how many accidents a single person aged 42 is responsible for on average?</font>\n",
    "\n",
    "<font color=\"blue\">Obviously, the more licensed drivers in an age group, the more accidents will be produced. We want to see what is the effect of the **age** of the driver in the generation of accidents (not the number of drivers in an age group), so we want to remove any influence due to the size of each age group.</font>\n",
    "\n",
    "<font color=\"blue\">Calculate the average number of accidents per person for each age group.</font>"
   ]
  },
  {
   "cell_type": "code",
   "execution_count": 6,
   "metadata": {},
   "outputs": [],
   "source": [
    "# Your Code Here\n"
   ]
  },
  {
   "cell_type": "markdown",
   "metadata": {},
   "source": [
    "---\n",
    "\n",
    "**RESPONSE**\n",
    "\n",
    "...\n",
    "\n",
    "---"
   ]
  },
  {
   "cell_type": "markdown",
   "metadata": {},
   "source": [
    "### Question 6\n",
    "\n",
    "<font color=\"blue\">Now plot the relationship between the average number of accidents per person vs the representative age of the corresponding age group. What do you observe? Provide a possible explanation for any issues you spot.</font>"
   ]
  },
  {
   "cell_type": "code",
   "execution_count": 7,
   "metadata": {},
   "outputs": [],
   "source": [
    "# Your Code Here\n"
   ]
  },
  {
   "cell_type": "markdown",
   "metadata": {},
   "source": [
    "---\n",
    "\n",
    "**RESPONSE**\n",
    "\n",
    "...\n",
    "\n",
    "---"
   ]
  },
  {
   "cell_type": "markdown",
   "metadata": {},
   "source": [
    "### Question 7\n",
    "\n",
    "<font color=\"blue\">Fit a model to this relationship, and predict how many accidents are people of 19 and 43 years old responsible for using your model. You will have to decide what kind of model better fits the data.</font>"
   ]
  },
  {
   "cell_type": "code",
   "execution_count": 8,
   "metadata": {},
   "outputs": [],
   "source": [
    "# Your Code here\n"
   ]
  },
  {
   "cell_type": "markdown",
   "metadata": {},
   "source": [
    "---\n",
    "\n",
    "**RESPONSE**\n",
    "\n",
    "...\n",
    "\n",
    "---"
   ]
  },
  {
   "cell_type": "markdown",
   "metadata": {},
   "source": [
    "### Question 8\n",
    "\n",
    "<font color=\"blue\">Prepare a presentation with your findings, explaining your analysis, your decisions and assumptions made.</font>"
   ]
  },
  {
   "cell_type": "markdown",
   "metadata": {},
   "source": [
    "**PRESENTATION EXPECTED IN SEPARATE FORMAT**"
   ]
  }
 ],
 "metadata": {
  "kernelspec": {
   "display_name": "Python 3 (ipykernel)",
   "language": "python",
   "name": "python3"
  },
  "language_info": {
   "codemirror_mode": {
    "name": "ipython",
    "version": 3
   },
   "file_extension": ".py",
   "mimetype": "text/x-python",
   "name": "python",
   "nbconvert_exporter": "python",
   "pygments_lexer": "ipython3",
   "version": "3.7.9"
  }
 },
 "nbformat": 4,
 "nbformat_minor": 4
}
