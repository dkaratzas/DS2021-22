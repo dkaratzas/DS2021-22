{
 "cells": [
  {
   "cell_type": "markdown",
   "metadata": {},
   "source": [
    "# Problems 10 - K-Nearest Neighbour Classification"
   ]
  },
  {
   "cell_type": "markdown",
   "metadata": {},
   "source": [
    "We will be working with the Iris dataset, which is a dataset with measurements of plants (flowers). Each plant has four unique features: sepal length, sepal width, petal length and petal width.\n",
    "\n",
    "The type of each plant (species) is also specified, and it is either of these three classes:\n",
    "* Iris Setosa (0)\n",
    "* Iris Versicolour (1)\n",
    "* Iris Virginica (2)\n",
    "\n",
    "Here are a couple of images to get an idea of the problem:\n",
    "\n",
    "|Iris Setosa|Iris Versicolor|Iris Virginica|\n",
    "|:-----:|:-----:|:-----:|\n",
    "|![Iris Setosa][setosa]|![Iris Versicolor][versicolor]|![Iris Virginica][virginica]|\n",
    "\n",
    "[setosa]: iris_setosa.jpg \"Iris Setosa\"\n",
    "[versicolor]: iris_versicolor.jpg \"Iris Versicolor\"\n",
    "[virginica]: iris_virginica.jpg \"Iris Virginica\"\n",
    "\n",
    "We are given some measurements for some of the specimens we have (e.g. the sepal length and width). Here's a small sample of our data:\n",
    "\n",
    "| Sepal length | Sepal Width | Petal Length | Petal Width |Class|\n",
    "|:---:|:---:|:---:|:---:|:---:|\n",
    "| 6.3 | 2.8 | 5.1 | 1.5 | 2 |\n",
    "| 5.  | 3.4 | 1.6 | 0.4 | 0 |\n",
    "| 5.6 | 2.5 | 3.9 | 1.1 | 1 |\n",
    "| 5.1 | 3.4 | 1.5 | 0.2 | 0 |\n",
    "| 5.4 | 3.4 | 1.5 | 0.4 | 0 |\n",
    "| 6.3 | 3.4 | 5.6 | 2.4 | 2 |\n",
    "| 7.7 | 3.8 | 6.7 | 2.2 | 2 |\n",
    "| 6.  | 2.2 | 5.  | 1.5 | 2 |\n",
    "| 6.7 | 3.  | 5.  | 1.7 | 1 |\n",
    "| 5.6 | 2.8 | 4.9 | 2.  | 2 |\n",
    "| 6.1 | 3.  | 4.6 | 1.4 | 1 |\n",
    "| 4.9 | 3.1 | 1.5 | 0.2 | 0 |\n",
    "| 6.4 | 2.9 | 4.3 | 1.3 | 1 |\n",
    "| 6.3 | 2.8 | 5.1 | 1.5 | 2 |\n",
    "| 7.2 | 3.2 | 6.  | 1.8 | 2 |\n",
    "| 6.3 | 3.3 | 6.  | 2.5 | 2 |\n",
    "| 5.7 | 2.8 | 4.5 | 1.3 | 1 |\n",
    "| 6.  | 3.  | 4.8 | 1.8 | 2 |\n",
    "| 5.7 | 2.8 | 4.1 | 1.3 | 1 |\n",
    "| 5.7 | 2.6 | 3.5 | 1.  | 1 |\n",
    "\n",
    "Can we build a k-NN classifier that can determine if the flower is an Iris Setosa, Iris Versicolour or Iris Virginica? For this exercise we will be using the scikit implementation of Nearest Neighbours classifier: https://scikit-learn.org/stable/modules/neighbors.html\n",
    "\n",
    "<br>\n",
    "Let's start with loading the Iris dataset. To start with, we will start with only two of the four provided features."
   ]
  },
  {
   "cell_type": "code",
   "execution_count": 15,
   "metadata": {},
   "outputs": [
    {
     "name": "stdout",
     "output_type": "stream",
     "text": [
      "We imported (150, 4) data samples\n",
      "We imported (150,) target labels\n"
     ]
    },
    {
     "data": {
      "image/png": "[encoded data removed]",
      "text/plain": [
       "<Figure size 432x288 with 1 Axes>"
      ]
     },
     "metadata": {
      "needs_background": "light"
     },
     "output_type": "display_data"
    }
   ],
   "source": [
    "import matplotlib\n",
    "\n",
    "import numpy as np\n",
    "import matplotlib.pyplot as plt\n",
    "from matplotlib.colors import ListedColormap\n",
    "from sklearn import neighbors, datasets\n",
    "\n",
    "# import the Iris dataset\n",
    "iris = datasets.load_iris()\n",
    "\n",
    "print(\"We imported {} data samples\".format(iris.data.shape))\n",
    "print(\"We imported {} target labels\".format(iris.target.shape))\n",
    "\n",
    "# Let's keep only the first two features, corresponding to Sepal Length and Sepal Width\n",
    "X = iris.data[:, :2]\n",
    "y = iris.target # And keep the output clases in our variable y\n",
    "\n",
    "plt.scatter(X[:, 0], X[:, 1], c = y, cmap=plt.cm.Paired) # Note that we use the value of our class as the index of a colour in our colour map\n",
    "plt.xlabel('Sepal Length')\n",
    "plt.ylabel('Sepal Width')\n",
    "plt.show()"
   ]
  },
  {
   "cell_type": "markdown",
   "metadata": {},
   "source": [
    "It is always necessary to keep some part of the data aside, in order to measure how well we are doing. We will therefore split the data into a part that we will use for training (the training set) and a part that we will use for testing (the test set).\n",
    "\n",
    "The `train_test_split()` function of `sklearn` automates this process, and makes sure that the distribution of points from the different classes is the same in the test and the training set."
   ]
  },
  {
   "cell_type": "code",
   "execution_count": 16,
   "metadata": {
    "scrolled": true
   },
   "outputs": [
    {
     "name": "stdout",
     "output_type": "stream",
     "text": [
      "(112, 2)\n",
      "[0 1 2]\n",
      "(38, 2)\n",
      "[0 1 2]\n"
     ]
    }
   ],
   "source": [
    "# Create a split in training and test data\n",
    "from sklearn.model_selection import train_test_split\n",
    "\n",
    "X_train, X_test, y_train, y_test = train_test_split(X, y, test_size=0.25, random_state=42) #Keep 25% of the data as the test set\n",
    "\n",
    "# Para entrenar el clasificador\n",
    "# X_train and y_train\n",
    "\n",
    "# Para testear el clasificador\n",
    "# X_test, y_test\n",
    "\n",
    "\n",
    "print(X_train.shape)\n",
    "print(np.unique(y_train))\n",
    "print(X_test.shape)\n",
    "print(np.unique(y_test))"
   ]
  },
  {
   "cell_type": "code",
   "execution_count": 17,
   "metadata": {
    "scrolled": true
   },
   "outputs": [
    {
     "data": {
      "text/plain": [
       "{'algorithm': 'kd_tree',\n",
       " 'leaf_size': 30,\n",
       " 'metric': 'minkowski',\n",
       " 'metric_params': None,\n",
       " 'n_jobs': None,\n",
       " 'n_neighbors': 1,\n",
       " 'p': 2,\n",
       " 'weights': 'distance'}"
      ]
     },
     "execution_count": 17,
     "metadata": {},
     "output_type": "execute_result"
    }
   ],
   "source": [
    "# We create an instance of Nearest Neighbours Classifier and fit the data.\n",
    "\n",
    "n_neighbours = 1 # Number of neigbours we will use for the classification by default\n",
    "\n",
    "clf = neighbors.KNeighborsClassifier(n_neighbours, weights='distance', algorithm = 'kd_tree')\n",
    "clf.fit(X_train, y_train)\n",
    "clf.get_params()"
   ]
  },
  {
   "cell_type": "markdown",
   "metadata": {},
   "source": [
    "Once the Data is fit, we can predict the value for any new point, by calling the function `predict()` of KNeighbourClassifier as `clf.predict(X)`"
   ]
  },
  {
   "cell_type": "code",
   "execution_count": 18,
   "metadata": {},
   "outputs": [
    {
     "name": "stdout",
     "output_type": "stream",
     "text": [
      "[1]\n"
     ]
    }
   ],
   "source": [
    "# Let's make a prediction\n",
    "sl = 5.3 # Sepal length (cm)\n",
    "sw = 3.1 # Sepal width (cm)\n",
    "\n",
    "predictedClass = clf.predict([[sl, sw]])\n",
    "\n",
    "print(predictedClass)"
   ]
  },
  {
   "cell_type": "markdown",
   "metadata": {},
   "source": [
    "Let's visualise a bit better what is happening"
   ]
  },
  {
   "cell_type": "code",
   "execution_count": 19,
   "metadata": {},
   "outputs": [
    {
     "name": "stdout",
     "output_type": "stream",
     "text": [
      "Prediction: Iris Versicolour\n"
     ]
    },
    {
     "data": {
      "image/png": "[encoded data removed]",
      "text/plain": [
       "<Figure size 432x288 with 1 Axes>"
      ]
     },
     "metadata": {
      "needs_background": "light"
     },
     "output_type": "display_data"
    }
   ],
   "source": [
    "# First, print out the class name\n",
    "print('Prediction: ', end='')\n",
    "\n",
    "if predictedClass == 0: \n",
    "    print('Iris Setosa')\n",
    "elif predictedClass == 1:\n",
    "    print('Iris Versicolour')\n",
    "else:\n",
    "    print('Iris Virginica')\n",
    "    \n",
    "# Now do a scatter plot\n",
    "plt.scatter(X_train[:, 0], X_train[:, 1], c = y_train, cmap=plt.cm.Paired)\n",
    "plt.scatter(sl, sw, c = 'black', marker = '+', s = 200) # let's also plot the query point as a big, black cross\n",
    "plt.xlabel('Sepal Length')\n",
    "plt.ylabel('Sepal Width')\n",
    "plt.show()"
   ]
  },
  {
   "cell_type": "markdown",
   "metadata": {},
   "source": [
    "</br>\n",
    "\n",
    "You can try to repeat the prediction for different inputs (values of the two input features).\n",
    "\n",
    "We can use the prediction function to draw the areas associated with each class. The function below is using `predict()` iteratively, over a grid of values, and then uses the predictions to show the decision plot and colour areas associated to each class in a different color. You can use this function as a black box."
   ]
  },
  {
   "cell_type": "code",
   "execution_count": 20,
   "metadata": {
    "collapsed": false,
    "jupyter": {
     "outputs_hidden": false
    }
   },
   "outputs": [],
   "source": [
    "# This function plots the decision function of a classifier in a 2D space\n",
    "# You can use it just as a black box.\n",
    "# Input parameters:\n",
    "#     clf : your classifier\n",
    "#     X : an array of size [n_samples, n_features] holding the data samples\n",
    "#     y : an array of size [n_samples] with the class labels of each sample\n",
    "def plot_classifier_boundary(clf, X, y, ax = None):\n",
    "\n",
    "    # create a mesh to plot in\n",
    "    h = .02  # step size in the mesh\n",
    "    x_min, x_max = X[:, 0].min() - 1, X[:, 0].max() + 1\n",
    "    y_min, y_max = X[:, 1].min() - 1, X[:, 1].max() + 1\n",
    "    xx, yy = np.meshgrid(np.arange(x_min, x_max, h),\n",
    "                     np.arange(y_min, y_max, h))\n",
    "    Z = clf.predict(np.c_[xx.ravel(), yy.ravel()])\n",
    "\n",
    "    # Put the result into a color plot\n",
    "    Z = Z.reshape(xx.shape)\n",
    "    \n",
    "    # If the user has given us a axis, use this axis to plot stuff, otherwise, create a new figure\n",
    "    if (ax == None):\n",
    "        fig, ax = plt.subplots()\n",
    "    ax.contourf(xx, yy, Z, cmap=plt.cm.Paired, alpha=0.6)\n",
    "\n",
    "    # Plot also the training points\n",
    "    ax.scatter(X[:, 0], X[:, 1], c=y, cmap=plt.cm.Paired)\n",
    "    ax.set_xlabel('Sepal Length')\n",
    "    ax.set_ylabel('Sepal Width')\n",
    "    ax.set_xlim(xx.min(), xx.max())\n",
    "    ax.set_ylim(yy.min(), yy.max())"
   ]
  },
  {
   "cell_type": "code",
   "execution_count": 21,
   "metadata": {},
   "outputs": [
    {
     "data": {
      "image/png": "[encoded data removed]",
      "text/plain": [
       "<Figure size 432x288 with 1 Axes>"
      ]
     },
     "metadata": {
      "needs_background": "light"
     },
     "output_type": "display_data"
    }
   ],
   "source": [
    "plot_classifier_boundary(clf, X_train, y_train)"
   ]
  },
  {
   "cell_type": "markdown",
   "metadata": {},
   "source": [
    "<font color=blue>What do you think of the plot above? Is this a good model? How could you improve it? </font>"
   ]
  },
  {
   "cell_type": "markdown",
   "metadata": {},
   "source": [
    "---\n",
    "\n",
    "*YOUR RESPONSE HERE*\n",
    "\n",
    "---\n"
   ]
  },
  {
   "cell_type": "markdown",
   "metadata": {},
   "source": [
    "Before trying anything else, let's check how many points we got right (the accuracy value), you can use the `score()` function of KNeighbourClassifier as `clf.score(X, y)`\n",
    "\n",
    "Let's try it first on the train set."
   ]
  },
  {
   "cell_type": "code",
   "execution_count": 22,
   "metadata": {},
   "outputs": [
    {
     "name": "stdout",
     "output_type": "stream",
     "text": [
      "Train Accuracy : 0.9553571428571429\n"
     ]
    }
   ],
   "source": [
    "print (\"Train Accuracy : \" + str(clf.score(X_train, y_train)))"
   ]
  },
  {
   "cell_type": "markdown",
   "metadata": {},
   "source": [
    "<font color=blue>Does this score make sense to you? What did you expect to get? Can you come up with any explanation for this result? </font>"
   ]
  },
  {
   "cell_type": "markdown",
   "metadata": {},
   "source": [
    "---\n",
    "\n",
    "*YOUR RESPONSE HERE*\n",
    "\n",
    "---\n"
   ]
  },
  {
   "cell_type": "markdown",
   "metadata": {},
   "source": [
    "<font color=blue> Calculate the score (accuracy) on the test set. </font>"
   ]
  },
  {
   "cell_type": "code",
   "execution_count": 23,
   "metadata": {},
   "outputs": [],
   "source": [
    "# YOUR CODE HERE\n"
   ]
  },
  {
   "cell_type": "markdown",
   "metadata": {},
   "source": [
    "In the predictions we did above, we used the default number of neighbours that we provided when we defined the classifier (=1). If we want to ask the classifier to use a different number of neighbours, we can either retrain it (could take a lot of time), or just inform it that we want to use a different value for the parameter `n_neighbours` by calling the function `set_params`. For example, to use 10 neighbours instead of the default 1, we could do the following:"
   ]
  },
  {
   "cell_type": "code",
   "execution_count": 24,
   "metadata": {},
   "outputs": [
    {
     "name": "stdout",
     "output_type": "stream",
     "text": [
      "Prediction: Iris Setosa\n"
     ]
    }
   ],
   "source": [
    "clf.set_params(n_neighbors = 10)\n",
    "\n",
    "predictedClass = clf.predict([[sl, sw]])\n",
    "\n",
    "print('Prediction: ', end='')\n",
    "\n",
    "if predictedClass == 0:\n",
    "    print('Iris Setosa')\n",
    "elif predictedClass == 1:\n",
    "    print('Iris Versicolour')\n",
    "else:\n",
    "    print('Iris Virginica')"
   ]
  },
  {
   "cell_type": "markdown",
   "metadata": {},
   "source": [
    "Note that by calling `set_params` you change the parameters of the classifier permanently (until you decide to change it again). if you call predict again, it will now be using 10 nearest neighbours."
   ]
  },
  {
   "cell_type": "markdown",
   "metadata": {},
   "source": [
    "<font color=blue> Try to repeat the classification for different values of neighbours (k), plot the classifier boundary and calculate the score over the test set. Which is the best k? </font>"
   ]
  },
  {
   "cell_type": "code",
   "execution_count": 25,
   "metadata": {},
   "outputs": [],
   "source": [
    "# YOUR CODE HERE\n"
   ]
  },
  {
   "cell_type": "markdown",
   "metadata": {},
   "source": [
    "<font color=blue> Make a plot of the Accuracy against the number of neighbours (k). Does the plot confirm your selection of k? </font>"
   ]
  },
  {
   "cell_type": "code",
   "execution_count": 26,
   "metadata": {},
   "outputs": [],
   "source": [
    "# YOUR CODE HERE\n"
   ]
  },
  {
   "cell_type": "markdown",
   "metadata": {},
   "source": [
    "---\n",
    "\n",
    "*YOUR RESPONSE HERE*\n",
    "\n",
    "---\n"
   ]
  },
  {
   "cell_type": "markdown",
   "metadata": {},
   "source": [
    "We are only using half of the features available in the Iris dataset. There are cases we still cannot classify correctly. Maybe we could improve on these if we added more features. On the downside, working with more than 2 dimensions means that we will not be able to plot the boundaries...\n",
    "\n",
    "Let's add one more feature and recreate the training and test sets."
   ]
  },
  {
   "cell_type": "code",
   "execution_count": 27,
   "metadata": {},
   "outputs": [
    {
     "name": "stdout",
     "output_type": "stream",
     "text": [
      "(112, 3)\n",
      "[0 1 2]\n",
      "(38, 3)\n",
      "[0 1 2]\n"
     ]
    }
   ],
   "source": [
    "X = iris.data[:, :3]\n",
    "y = iris.target\n",
    "\n",
    "# Create a split into training and test set\n",
    "from sklearn.model_selection import train_test_split\n",
    "\n",
    "X_train, X_test, y_train, y_test = train_test_split(X, y, test_size=0.25, random_state=42) # Keep 25% of the data for testing, the rest for training\n",
    "\n",
    "print(X_train.shape)\n",
    "print(np.unique(y_train))\n",
    "print(X_test.shape)\n",
    "print(np.unique(y_test))"
   ]
  },
  {
   "cell_type": "markdown",
   "metadata": {},
   "source": [
    "<font color=blue> Repeat the process and make a plot of the Accuracy against the number of neighbours (k) in this new case. Can you improve your results compared to the accuracy calcualted before? </font>"
   ]
  },
  {
   "cell_type": "code",
   "execution_count": 28,
   "metadata": {},
   "outputs": [],
   "source": [
    "# YOUR CODE HERE\n"
   ]
  },
  {
   "cell_type": "markdown",
   "metadata": {},
   "source": [
    "---\n",
    "\n",
    "*YOUR RESPONSE HERE*\n",
    "\n",
    "---\n"
   ]
  },
  {
   "cell_type": "markdown",
   "metadata": {},
   "source": [
    "<font color=blue> Now read the documentation, and check our different options for metrics and algorithms. Make a summary of your findings / problems you encountered. </font>\n",
    "\n",
    "https://scikit-learn.org/stable/modules/neighbors.html"
   ]
  },
  {
   "cell_type": "markdown",
   "metadata": {},
   "source": [
    "---\n",
    "\n",
    "*YOUR RESPONSE HERE*\n",
    "\n",
    "---\n"
   ]
  }
 ],
 "metadata": {
  "kernelspec": {
   "display_name": "Python 3",
   "language": "python",
   "name": "python3"
  },
  "language_info": {
   "codemirror_mode": {
    "name": "ipython",
    "version": 3
   },
   "file_extension": ".py",
   "mimetype": "text/x-python",
   "name": "python",
   "nbconvert_exporter": "python",
   "pygments_lexer": "ipython3",
   "version": "3.7.9"
  }
 },
 "nbformat": 4,
 "nbformat_minor": 4
}
