{
 "cells": [
  {
   "cell_type": "markdown",
   "metadata": {},
   "source": [
    "# Problems 1 - Basic Data Manipulation with Python"
   ]
  },
  {
   "cell_type": "markdown",
   "metadata": {},
   "source": [
    "## 1.1 Identify some scenarios of where data science could be applied in the city\n",
    "\n",
    "### Example 1:\n",
    "The city has noise sensors and collects measurements of noise at different locations and different times. \n",
    "- We could analyse this data to find patterns (in time and space) of excessive noise that we should take action on.\n",
    "\n",
    "### Example 2:\n",
    "The garbage collection vehicles are equipped with GPS loggers, so that we can know the routes they have taken.\n",
    "- We can analyse the logged information and automatically classify the times when they are collecting / when they are moving / when they are stopped. \n",
    "- We can analyse this data to optimise the collection routes - for this we would need to also measure how much of each kind of garbage they collect.\n",
    "\n",
    "### Example 3:\n",
    "We have cameras and sensors in the streets of the city that can detect passing vehicles\n",
    "- We can use this information to create a heatmap of traffic in the city during the day\n",
    "- We can use this information to detect times and places where high traffic appears\n",
    "\n",
    "### Write a couple of your own examples below"
   ]
  },
  {
   "cell_type": "markdown",
   "metadata": {},
   "source": [
    "---\n",
    "\n",
    "*Write Your Answer Here*\n",
    "\n",
    "---\n"
   ]
  },
  {
   "cell_type": "markdown",
   "metadata": {},
   "source": [
    "## 1.2 Grading students"
   ]
  },
  {
   "cell_type": "markdown",
   "metadata": {},
   "source": [
    "You have been given a list of students in a CSV (Comma Separated Values) file, along with the evaluation scores for a series of works they have submitted. The table of data looks like this:\n",
    "\n",
    "| student_id                           | Score  | Submission_Time  |\n",
    "| ------------------------------------ |:------:| ----------------:|\n",
    "| B73F2C11-70F0-E37D-8B10-1D20AFED50B1 | 92.7   | 02/11/2015 06:55 |\n",
    "| 98A0FAE0-A19A-13D2-4BB5-CFBFD94031D1 | 86.8   | 29/11/2015 14:57 |\n",
    "| D0F62040-CEB0-904C-F563-2F8620916C4E | 85.5   | 09/01/2016 05:36 |\n",
    "| FFDF2B2C-F514-EF7F-6538-A6A53518E9DC | 86.0   | 30/04/2016 06:50 |\n",
    "| 5ECBEEB6-F1CE-80AE-3164-E45E99473FB4 | 64.8   | 13/12/2015 17:06 |\n",
    "| ... | ... | ... |\n",
    "\n",
    "\n",
    "In this exercise we will import and manipulate this data. A lot of code is already given. When code is asked for, this is indicated <font color=blue>in blue</font>."
   ]
  },
  {
   "cell_type": "markdown",
   "metadata": {},
   "source": [
    "<br>\n",
    "\n",
    "First, let's get the data in from a csv file"
   ]
  },
  {
   "cell_type": "code",
   "execution_count": null,
   "metadata": {},
   "outputs": [],
   "source": [
    "import csv\n",
    "\n",
    "with open('grades.csv') as csvfile:\n",
    "    grades = list(csv.DictReader(csvfile))\n",
    "\n",
    "print('We have imported {0} entries'.format(len(grades))) #Let's print out the number of entries (rows) we have read\n",
    "\n",
    "grades[:4] # The first four dictionaries in our list, corresponding to the first three lines"
   ]
  },
  {
   "cell_type": "markdown",
   "metadata": {},
   "source": [
    "<br>\n",
    "\n",
    "Print out all the student IDs (the key for the student IDs seems to be `'student_id'`)"
   ]
  },
  {
   "cell_type": "code",
   "execution_count": null,
   "metadata": {},
   "outputs": [],
   "source": [
    "for item in grades:\n",
    "    print(item['student_id'])"
   ]
  },
  {
   "cell_type": "markdown",
   "metadata": {},
   "source": [
    "<font color=blue>**Exercise:** Print out the submission time for each of the assignments</font>"
   ]
  },
  {
   "cell_type": "code",
   "execution_count": null,
   "metadata": {},
   "outputs": [],
   "source": [
    "#Insert your code here\n"
   ]
  },
  {
   "cell_type": "markdown",
   "metadata": {},
   "source": [
    "<br>\n",
    "\n",
    "The submission time is given in string format. This is not very useful...\n",
    "\n",
    "One way to convert it to a machine readable format is to use the function `strptime()` of the module `datetime`.\n",
    "\n",
    "You can have a look at the help on the Web page here:\n",
    "https://docs.python.org/2/library/datetime.html#strftime-strptime-behavior\n",
    "\n",
    "In order to convert a string into a datetime object, we need to explain to the function how our strings are formatted. Here is one of our date strings:"
   ]
  },
  {
   "cell_type": "code",
   "execution_count": null,
   "metadata": {},
   "outputs": [],
   "source": [
    "date_string = grades[0]['Submission_Time']\n",
    "print(date_string)"
   ]
  },
  {
   "cell_type": "markdown",
   "metadata": {},
   "source": [
    "The format used is two digits for the day, a '/', two digits for the month, another '/', four digits for the year, a space, ...\n",
    "\n",
    "The way to write this format down for the `strptime()` function is:\n",
    "``` python\n",
    "'%d/%m/%Y %H:%M:%S'\n",
    "```\n",
    "\n",
    "If we provide this information to the function, it can convert the string to a machine readable format. Like this:"
   ]
  },
  {
   "cell_type": "code",
   "execution_count": null,
   "metadata": {},
   "outputs": [],
   "source": [
    "import datetime as dt\n",
    "\n",
    "date = dt.datetime.strptime(date_string, '%d/%m/%Y %H:%M:%S')\n",
    "print(date)"
   ]
  },
  {
   "cell_type": "markdown",
   "metadata": {},
   "source": [
    "<br>\n",
    "\n",
    "We can then compare dates or manipulate specific aspects of the date"
   ]
  },
  {
   "cell_type": "code",
   "execution_count": null,
   "metadata": {},
   "outputs": [],
   "source": [
    "print(date.year)\n",
    "\n",
    "#Define a date and time for the deadline, as 2015-12-31 23:59:59\n",
    "deadline = dt.datetime(2015, 12, 31, 23, 59, 59)\n",
    "\n",
    "print(date <= deadline)"
   ]
  },
  {
   "cell_type": "markdown",
   "metadata": {},
   "source": [
    "<br>\n",
    "\n",
    "Some of the students submitted their work after the deadline! Nasty... We do not want to grade them, so we have to remove them from the list.\n",
    "\n",
    "<font color=blue>**Exercise:** Use List Comprehension to create a new list without these students, and print out the data for the first few students to check that you have done it correctly.</font>"
   ]
  },
  {
   "cell_type": "code",
   "execution_count": null,
   "metadata": {},
   "outputs": [],
   "source": [
    "filtered_students = [] # New list that will hold students who submitted in time\n",
    "\n",
    "#Insert your code here\n",
    "\n"
   ]
  },
  {
   "cell_type": "markdown",
   "metadata": {},
   "source": [
    "<br>\n",
    "\n",
    "Now let's find the best performing and the worst performing student (of the ones that submitted their work on time).\n",
    "\n",
    "<font color=blue>**Exercise:** Find the minimum and the maximum Score.</font>\n",
    "\n",
    "> *Hint 1: Check out the Python functions `min()` and `max()`.*\n",
    "\n",
    "> *Hint 2: You can first create a list of scores by using list comprehension like in the following. Then it should be easier to manipulate the values in the list*"
   ]
  },
  {
   "cell_type": "code",
   "execution_count": null,
   "metadata": {},
   "outputs": [],
   "source": [
    "Scores = [item['Score'] for item in filtered_students]\n",
    "print(Scores[:4])"
   ]
  },
  {
   "cell_type": "markdown",
   "metadata": {},
   "source": [
    "> *Hint 3: In case you have not noticed, the scores in the list do not seem to be numbers... they are within single quotes, which means that Python is treating them as strings. We should <font color=blue>convert them to numbers</font> before we can use them... You can do this, by using the `float()` function*"
   ]
  },
  {
   "cell_type": "code",
   "execution_count": null,
   "metadata": {},
   "outputs": [],
   "source": [
    "#Insert your code here\n"
   ]
  },
  {
   "cell_type": "markdown",
   "metadata": {},
   "source": [
    "<br>\n",
    "\n",
    "<font color=blue>**Exercise:** This is great. Now it would be nice to see which student (student ID) was the best performer and the worst performer. You can do this again using list comprehension.</font>"
   ]
  },
  {
   "cell_type": "code",
   "execution_count": null,
   "metadata": {},
   "outputs": [],
   "source": [
    "#Insert your code here\n"
   ]
  },
  {
   "cell_type": "markdown",
   "metadata": {},
   "source": [
    "<br>\n",
    "\n",
    "<font color=blue>**Exercise:** Find the average score of the class.</font>\n",
    "\n",
    "> *Hint: check functions: `sum()` and `len()`*"
   ]
  },
  {
   "cell_type": "code",
   "execution_count": null,
   "metadata": {},
   "outputs": [],
   "source": [
    "#Insert your code here\n"
   ]
  },
  {
   "cell_type": "markdown",
   "metadata": {},
   "source": [
    "<br>\n",
    "\n",
    "Just to finish with a nice visual, here's some code for plotting the histogram of scores of all students."
   ]
  },
  {
   "cell_type": "code",
   "execution_count": null,
   "metadata": {},
   "outputs": [],
   "source": [
    "import matplotlib.pyplot as plt\n",
    "\n",
    "plt.hist(Scores, bins = 15, color = 'green')\n",
    "plt.show()"
   ]
  },
  {
   "cell_type": "markdown",
   "metadata": {},
   "source": [
    "<br>\n",
    "\n",
    "<font color=blue>**Exercise:** Change the colours and the number of bins of the plot above to you liking.</font>"
   ]
  },
  {
   "cell_type": "code",
   "execution_count": null,
   "metadata": {},
   "outputs": [],
   "source": [
    "#Insert your code here\n"
   ]
  }
 ],
 "metadata": {
  "kernelspec": {
   "display_name": "Python 3",
   "language": "python",
   "name": "python3"
  },
  "language_info": {
   "codemirror_mode": {
    "name": "ipython",
    "version": 3
   },
   "file_extension": ".py",
   "mimetype": "text/x-python",
   "name": "python",
   "nbconvert_exporter": "python",
   "pygments_lexer": "ipython3",
   "version": "3.7.9"
  }
 },
 "nbformat": 4,
 "nbformat_minor": 4
}
