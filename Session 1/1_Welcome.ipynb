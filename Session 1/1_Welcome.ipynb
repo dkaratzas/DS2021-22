{
 "cells": [
  {
   "cell_type": "markdown",
   "metadata": {},
   "source": [
    "# Welcome to Python Notebooks\n",
    "\n",
    "Python notebooks are a series of \"cells\" that can contain either text (like the one you are reading right now) or code (like the one just next).\n",
    "\n",
    "To run the code in a code cell, position your cursor on it, and the click SHIFT+ENTER, or click the \"play\" button above.\n",
    "\n",
    "Try it now, with the cell below."
   ]
  },
  {
   "cell_type": "code",
   "execution_count": null,
   "metadata": {},
   "outputs": [],
   "source": [
    "print(\"Hello World\")"
   ]
  },
  {
   "cell_type": "markdown",
   "metadata": {},
   "source": [
    "When you clicked SHIFT+ENTER, the cell was executed, and the focus was moved to the next cell. Alternatively, you can click CTRL+ENTER. In this case the code will be executed but the focus will not move to the next cell. This might be useful when you are trying things out and you intend to keep editing the contents of the cell."
   ]
  },
  {
   "cell_type": "markdown",
   "metadata": {},
   "source": [
    "Now try to change the code above, to print out your name. Just copy and paste the code above to the code cell below and edit it. Then run it. Note that in Python any line that starts with # is a comment."
   ]
  },
  {
   "cell_type": "code",
   "execution_count": null,
   "metadata": {},
   "outputs": [],
   "source": [
    "# Add your code here\n",
    "\n"
   ]
  },
  {
   "cell_type": "markdown",
   "metadata": {},
   "source": [
    "Now try to add your own code cell. Click once on this cell you are reading, and then click on the plus (+) button in the menu above. This should add a new cell just below the one currently in focus. If you do it right, the new cell should appear between the arrows.\n",
    "\n",
    "&#8595;"
   ]
  },
  {
   "cell_type": "markdown",
   "metadata": {},
   "source": [
    "&#8593;\n",
    "\n",
    "Have you managed? If your new cell did not appear where you expected it to be, you can use the up and down arrow buttons in the menu to move it around. (If you are using Jupyter Lab on your computer instead of Jupyter Notebooks, you will not see the up and dow arrow buttons, but you should be able to drag and drop cells instead)."
   ]
  },
  {
   "cell_type": "markdown",
   "metadata": {},
   "source": [
    "## Markdown"
   ]
  },
  {
   "cell_type": "markdown",
   "metadata": {},
   "source": [
    "Another type of cells of interest are the so-called \"markdown\" cells. These cells contain text, which can be formatted using a simple markdown language. The cell you are reading right now, is a markdown cell.\n",
    "\n",
    "Now, try to create your own markdown cell. Do the same like before to create a new cell. When a new cell is created, it is a code cell by default. We should therefore change its type to \"markdown\". To do so, while you are editing the cell, select \"markdown\" in the dropdown menu above.\n",
    "\n",
    "&#8595;"
   ]
  },
  {
   "cell_type": "markdown",
   "metadata": {},
   "source": [
    "&#8593;"
   ]
  },
  {
   "cell_type": "markdown",
   "metadata": {},
   "source": [
    "Now try to write some text in the newly created cell. Then press SHIFT+ENTER to \"run it\" - which means to apply formatting to your text.\n",
    "\n",
    "There are a lot of ways to format your text, for example, you can use the following syntax to add a heading. Go back to your cell and try this out.\n",
    "\n",
    "```markdown\n",
    "# Heading 1\n",
    "## Heading 2\n",
    "### Heading 3\n",
    "```"
   ]
  },
  {
   "cell_type": "markdown",
   "metadata": {},
   "source": [
    "Before we get on with with the practical sessions and more advanced problems next week, please familiarise yourselves with notebooks reading through the introductory text about Python notebooks you can find here (or search for more documentation online):\n",
    "\n",
    "https://realpython.com/jupyter-notebook-introduction/"
   ]
  },
  {
   "cell_type": "markdown",
   "metadata": {},
   "source": [
    "## Rules for using JupyterHub"
   ]
  },
  {
   "cell_type": "markdown",
   "metadata": {},
   "source": [
    "You have different ways to work with Python and Jupyter Notebooks. If you decide to use the JupyterHub setup for the course, you should keep in mind the following."
   ]
  },
  {
   "cell_type": "markdown",
   "metadata": {},
   "source": [
    "### Managing common resources"
   ]
  },
  {
   "cell_type": "markdown",
   "metadata": {},
   "source": [
    "When you open a notebook, it will appear on a separate tab in your browser. Along with the notebook, a new instance of a python kernel will be launched - this is the python executable that is responsible for running your code.\n",
    "\n",
    "If you just close the tab where you are editing your notebook, the kernel associated with it will NOT close. It will keep running in the background. In order for the kernel to close, you should exit from your notebook by using \"File\" / \"Close and Halt\" from the menu.\n",
    "\n",
    "Remember to save your work (click on \"File\" / \"Save and Checkpoint\" OR Ctrl+S OR the Save icon in the toolbar) before you close the notebook.\n",
    "\n",
    "If at any time you want to see if you have any notebooks running in the background, you can check this from the main menu, using the tab \"Running\". From that same tab, you can select to \"Shutdown\" any notebook you do not need running anymore, or you can reconnect to it."
   ]
  },
  {
   "cell_type": "markdown",
   "metadata": {},
   "source": [
    "### Submitting your work"
   ]
  },
  {
   "cell_type": "markdown",
   "metadata": {},
   "source": [
    "Each week you will have to upload your work to campus virtual. To do so, you have to first save and download the notebook you want through \"File\" / \"Download as\" / \"Notebook (.ipynb)\".\n",
    "\n",
    "You should then upload the notebook (and any other files necessary to reproduce your work) through campus virtual."
   ]
  },
  {
   "cell_type": "markdown",
   "metadata": {},
   "source": [
    "### Refreshing content from GitHub"
   ]
  },
  {
   "cell_type": "markdown",
   "metadata": {},
   "source": [
    "Remember that all content of the course (problems and practicals) is available through the GitHub of the course at: https://github.com/dkaratzas/DS2020-21\n",
    "\n",
    "In order to bring over in your JupyterHub space any new content available in the GitHub, once you login in in JupyterHub you should visit this URL: https://tinyurl.com/ds2020-21\n",
    "\n",
    "Save your work before you click on this link, as it will take you out of the notebook you are current editing. Or visit this link through a different tab of your browser.\n",
    "\n",
    "Note that when you refresh the contents from the github of the course, any changes you have already made will be safe - the update will never overwrite any file you have changed. If you want to get a fresh version of a file, you should delete or rename the file you work on, and then refresh content from Github. Then a new copy of the file will be brought over."
   ]
  },
  {
   "cell_type": "code",
   "execution_count": null,
   "metadata": {},
   "outputs": [],
   "source": []
  }
 ],
 "metadata": {
  "kernelspec": {
   "display_name": "Python 3",
   "language": "python",
   "name": "python3"
  },
  "language_info": {
   "codemirror_mode": {
    "name": "ipython",
    "version": 3
   },
   "file_extension": ".py",
   "mimetype": "text/x-python",
   "name": "python",
   "nbconvert_exporter": "python",
   "pygments_lexer": "ipython3",
   "version": "3.7.9"
  }
 },
 "nbformat": 4,
 "nbformat_minor": 4
}
