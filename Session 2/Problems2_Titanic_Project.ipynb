{
 "cells": [
  {
   "cell_type": "markdown",
   "metadata": {},
   "source": [
    "# Practical Session 2: Basic Data Manipulation with Python - Titanic Project"
   ]
  },
  {
   "cell_type": "markdown",
   "metadata": {},
   "source": [
    "![Some text here](https://www.encyclopedia-titanica.org/images/titanic-fp-southampton-banner1.jpg)\n",
    "\n",
    "RMS Titanic was a British passenger liner operated by the White Star Line that sank in the North Atlantic Ocean on 15 April 1912, after striking an iceberg during her maiden voyage from Southampton to New York City.\n",
    "\n",
    "Of the estimated 2,224 passengers and crew aboard, more than 1,500 died, making the sinking at the time one of the deadliest of a single ship and the deadliest peacetime sinking of a superliner or cruise ship to date.\n",
    "\n",
    "We will work with real data from the first -and last- voyge of the Titanic, to discover what really happened to the people who sailed on RMS Titanic.\n",
    "\n",
    "For this project, you should work with your team for some time, then we will share the results with the class.\n",
    "\n",
    "You can find some more info about the people who sailed on the Titanic here:\n",
    "\n",
    "https://www.encyclopedia-titanica.org/\n",
    "\n",
    "Also, the Titanic data is one of the introductory competitions of Kaggle. If you feel like trying to participate you can find the data description below:\n",
    "\n",
    "https://www.kaggle.com/c/titanic/data"
   ]
  },
  {
   "cell_type": "markdown",
   "metadata": {},
   "source": [
    "## First things first - show me the data"
   ]
  },
  {
   "cell_type": "markdown",
   "metadata": {},
   "source": [
    "The data we will work with comprises of information about all the people who sailed with titanic. It is given as a single comma separated values file."
   ]
  },
  {
   "cell_type": "code",
   "execution_count": null,
   "metadata": {},
   "outputs": [],
   "source": [
    "import pandas as pd\n",
    "titanic = pd.read_csv(\"TitanicData.csv\")"
   ]
  },
  {
   "cell_type": "markdown",
   "metadata": {},
   "source": [
    "Let's see what we loaded"
   ]
  },
  {
   "cell_type": "code",
   "execution_count": null,
   "metadata": {},
   "outputs": [],
   "source": [
    "titanic.head(10)"
   ]
  },
  {
   "cell_type": "code",
   "execution_count": null,
   "metadata": {},
   "outputs": [],
   "source": [
    "titanic.info()"
   ]
  },
  {
   "cell_type": "markdown",
   "metadata": {},
   "source": [
    "Note that some values are null. We might need to deal with this at some point. Some columns are categorical / string etc (see the \"object\" ones)."
   ]
  },
  {
   "cell_type": "markdown",
   "metadata": {},
   "source": [
    "## Exploration"
   ]
  },
  {
   "cell_type": "markdown",
   "metadata": {},
   "source": [
    "<font color=\"blue\">**Exercise:** Describe the numerical columns</font>"
   ]
  },
  {
   "cell_type": "code",
   "execution_count": null,
   "metadata": {},
   "outputs": [],
   "source": [
    "# Your Code Here\n"
   ]
  },
  {
   "cell_type": "markdown",
   "metadata": {},
   "source": [
    "<font color=\"blue\">**Exercise:** Make a histogram of the Age of the passengers travelling in the Titanic. Use 15 bins, and change the color of the plot to your liking.</font>\n",
    "\n",
    ">Hint: have a look at the matplotlib's `plt.hist()` function, or the pandas' `Series.plot.hist()`"
   ]
  },
  {
   "cell_type": "code",
   "execution_count": null,
   "metadata": {},
   "outputs": [],
   "source": [
    "#Your Code Here\n"
   ]
  },
  {
   "cell_type": "markdown",
   "metadata": {},
   "source": [
    "<font color=\"blue\">**Exercise:** Do the same with the fares, then find out what is the value at the 75% percentile (i.e. find the fare X that splits the titanic passengers in two parts: 75% of the passengers paid less than X and 25% paid more)</font>\n",
    "\n",
    ">Hint: Have a look at the pandas function `Series.quantile()`"
   ]
  },
  {
   "cell_type": "code",
   "execution_count": null,
   "metadata": {},
   "outputs": [],
   "source": [
    "#Your Code Here\n"
   ]
  },
  {
   "cell_type": "markdown",
   "metadata": {},
   "source": [
    "## Surviving the Titanic"
   ]
  },
  {
   "cell_type": "markdown",
   "metadata": {},
   "source": [
    "<font color=\"blue\">**Exercise:** What was the chance of surviving of someone who paid more than 100 GBP for their ticket?</font>"
   ]
  },
  {
   "cell_type": "code",
   "execution_count": null,
   "metadata": {},
   "outputs": [],
   "source": [
    "# Your Code Here\n"
   ]
  },
  {
   "cell_type": "markdown",
   "metadata": {},
   "source": [
    "<font color=\"blue\">**Exercise:** Make a function that given a fare value of F calculates what percentage of people survived who had paid F or less. Use this function to plot the rate of survival against the fare paid for the fairs up until the 0.75 quantile (75% percentile)</font>"
   ]
  },
  {
   "cell_type": "code",
   "execution_count": null,
   "metadata": {},
   "outputs": [],
   "source": [
    "#Your Code here\n"
   ]
  },
  {
   "cell_type": "markdown",
   "metadata": {},
   "source": [
    "<font color=\"blue\">**Exercise:** Have a look at your plot and give your interpretation.</font>"
   ]
  },
  {
   "cell_type": "markdown",
   "metadata": {},
   "source": [
    "---\n",
    "\n",
    "*Your answer here*\n",
    "\n",
    "...\n",
    "\n",
    "---"
   ]
  },
  {
   "cell_type": "markdown",
   "metadata": {},
   "source": [
    "## How much would it have cost me to travel first class?"
   ]
  },
  {
   "cell_type": "markdown",
   "metadata": {},
   "source": [
    "<font color=\"blue\">**Exercise:** Add a column with the Fare value in todays GBP. take into account that 1 GBP of 1915 would be worth 109.53 GBP in 2022 (source: https://www.in2013dollars.com/uk/inflation/1915?amount=1, accessed 10/2/2022) </font>"
   ]
  },
  {
   "cell_type": "code",
   "execution_count": null,
   "metadata": {},
   "outputs": [],
   "source": [
    "#Your Code Here\n",
    "\n"
   ]
  },
  {
   "cell_type": "markdown",
   "metadata": {},
   "source": [
    "<font color=\"blue\">**Exercise:**  What are the key statistics for the fares in 2020 value of the different classes?</font>\n",
    "\n",
    ">Hint: Have a look at the pandas `DataFrame.groupby()` function, and use `DataFrame.describe()` to get the key statistics"
   ]
  },
  {
   "cell_type": "code",
   "execution_count": null,
   "metadata": {},
   "outputs": [],
   "source": [
    "#Your Code Here\n",
    "\n"
   ]
  },
  {
   "cell_type": "markdown",
   "metadata": {},
   "source": [
    "According to your statistics, what is the minimum price paid by someone travelling in each of the three classes? If you have done this right, you should see that there are passengers that have paid 0 in every class... This is a bit strange, and not good for our statistics. These were probably crew members.\n",
    "\n",
    "<font color=\"blue\">**Exercise:** Print out the names of all passengers that paid 0 fare</font>"
   ]
  },
  {
   "cell_type": "code",
   "execution_count": null,
   "metadata": {},
   "outputs": [],
   "source": [
    "#Your Code Here\n",
    "\n"
   ]
  },
  {
   "cell_type": "markdown",
   "metadata": {},
   "source": [
    "<font color=\"blue\">**Exercise:** Calculate again the key statistics for the fares in 2022 value of the different classes, but this time, removing any passengers that have paid a fare of 0.</font>"
   ]
  },
  {
   "cell_type": "code",
   "execution_count": null,
   "metadata": {},
   "outputs": [],
   "source": [
    "#Your Code Here\n",
    "\n"
   ]
  }
 ],
 "metadata": {
  "kernelspec": {
   "display_name": "Python 3",
   "language": "python",
   "name": "python3"
  },
  "language_info": {
   "codemirror_mode": {
    "name": "ipython",
    "version": 3
   },
   "file_extension": ".py",
   "mimetype": "text/x-python",
   "name": "python",
   "nbconvert_exporter": "python",
   "pygments_lexer": "ipython3",
   "version": "3.7.9"
  }
 },
 "nbformat": 4,
 "nbformat_minor": 4
}
