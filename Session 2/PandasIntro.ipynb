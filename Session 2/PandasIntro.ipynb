{
 "cells": [
  {
   "cell_type": "markdown",
   "metadata": {},
   "source": [
    "# Introduction to Pandas"
   ]
  },
  {
   "cell_type": "markdown",
   "metadata": {},
   "source": [
    "*Pandas* is a high-performance Python library that allows us to easily use and manipulate data structures such as tables and series.\n",
    "\n",
    "https://pandas.pydata.org/pandas-docs/stable/index.html\n",
    "\n",
    "It connects directly to *NumPy* and *MatPlotLib* to manage numerical operations and plotting. This notebook is a quick introduction to the module. You are encouraged to explore more, for example starting here:\n",
    "\n",
    "https://pandas.pydata.org/pandas-docs/stable/getting_started/intro_tutorials/index.html\n",
    "\n",
    "https://pandas.pydata.org/pandas-docs/stable/user_guide/index.html"
   ]
  },
  {
   "cell_type": "markdown",
   "metadata": {},
   "source": [
    "## Defining data frames (tables) and series in pandas"
   ]
  },
  {
   "cell_type": "code",
   "execution_count": null,
   "metadata": {},
   "outputs": [],
   "source": [
    "import pandas as pd"
   ]
  },
  {
   "cell_type": "markdown",
   "metadata": {},
   "source": [
    "We will define a table of information about the students of our class. We will try to reproduce the following tabular structure in *pandas*\n",
    "\n",
    "| NIU     | Name              | Exam | Practicals |\n",
    "|:-------:|:-----------------:|:----:|:----------:|  \n",
    "| 111222  | Ned Stark         | 6.0  |    5.4     |   \n",
    "| 123123  | Robert Baratheon  | 8.5  |    7.5     |   \n",
    "| 234234  | Jaime Lannister   | 3.7  |    6.4     |   \n",
    "| 345345  | Catelyn Stark     | 9.0  |    8.6     |   \n",
    "| 456456  | Viserys Targaryen | 4.0  |    4.6     |   \n",
    "| 567567  | Jon Snow          | 6.8  |    4.3     |   \n",
    "| 678678  | Talisa Maegyr     | 7.6  |    0.0     |   \n",
    "\n",
    "This table in pandas will be represented by a **data frame** which is implemented by the class `pandas.DataFrame`. Each column in a data frame is a **series** which is implemented by the `pandas.Series` object."
   ]
  },
  {
   "cell_type": "markdown",
   "metadata": {},
   "source": [
    "We will start with the first column, the NIU:"
   ]
  },
  {
   "cell_type": "code",
   "execution_count": null,
   "metadata": {},
   "outputs": [],
   "source": [
    "seriesNIU = pd.Series( [111222, 123123, 234234, 345345, 456456, 567567, 678678] )\n",
    "print (seriesNIU)"
   ]
  },
  {
   "cell_type": "markdown",
   "metadata": {},
   "source": [
    "See how pandas added an extra column with indices. The structure of a series is like a dictionary, where each value has an index and can be retrieved by using its index. For example:"
   ]
  },
  {
   "cell_type": "code",
   "execution_count": null,
   "metadata": {},
   "outputs": [],
   "source": [
    "seriesNIU[3]"
   ]
  },
  {
   "cell_type": "markdown",
   "metadata": {},
   "source": [
    "Let's define the rest of the columns of our table in the same way"
   ]
  },
  {
   "cell_type": "code",
   "execution_count": null,
   "metadata": {},
   "outputs": [],
   "source": [
    "seriesName = pd.Series( [\"Ned Stark\", \"Robert Baratheon\", \"Jaime Lannister\", \"Catelyn Stark\", \"Viserys Targaryen\", \"Jon Snow\", \"Talisa Maegyr\"] )\n",
    "seriesExam = pd.Series( [6.0, 8.5, 3.7, 9.0, 4.0, 6.8, 7.6])\n",
    "seriesPracticals = pd.Series( [5.4, 7.5, 6.4, 8.6, 4.6, 4.3, 0.0])"
   ]
  },
  {
   "cell_type": "markdown",
   "metadata": {},
   "source": [
    "Now we can combine the series (the columns) together into a data frame (a table). The idea is the same, a dataframe can be thought of as a dictionary of columns, where each column has its title and its data."
   ]
  },
  {
   "cell_type": "code",
   "execution_count": null,
   "metadata": {},
   "outputs": [],
   "source": [
    "d = {\"NIU\": seriesNIU,\n",
    "     \"Name\": seriesName,\n",
    "     \"Exam\": seriesExam,\n",
    "     \"Practicals\": seriesPracticals}\n",
    "\n",
    "dfStudents = pd.DataFrame(d)\n",
    "dfStudents"
   ]
  },
  {
   "cell_type": "markdown",
   "metadata": {},
   "source": [
    "We can actually ask pandas to use our own custom indices. For example in this case, we could decide to use the NIUs as the indices. Let's tell pandas to use this column."
   ]
  },
  {
   "cell_type": "code",
   "execution_count": null,
   "metadata": {},
   "outputs": [],
   "source": [
    "dfStudents = dfStudents.set_index('NIU')\n",
    "dfStudents\n",
    "\n",
    "# An alternative way would be to make the change in place by calling:\n",
    "# dfStudents.set_index('NIU', inplace = True)"
   ]
  },
  {
   "cell_type": "markdown",
   "metadata": {},
   "source": [
    "We can ask for some quick information about a data frame by using `DataFrame.info()`. This tells us what columns we have, how many values there are in each column, their types, etc."
   ]
  },
  {
   "cell_type": "code",
   "execution_count": null,
   "metadata": {},
   "outputs": [],
   "source": [
    "dfStudents.info()"
   ]
  },
  {
   "cell_type": "markdown",
   "metadata": {},
   "source": [
    "Since a data frame is like a dictionary of columns, we can refer to each column by its name. For example, the following will return the columns of exam scores as a series:"
   ]
  },
  {
   "cell_type": "code",
   "execution_count": null,
   "metadata": {},
   "outputs": [],
   "source": [
    "scores = dfStudents[\"Exam\"]\n",
    "scores"
   ]
  },
  {
   "cell_type": "markdown",
   "metadata": {},
   "source": [
    "See how our exam scores are now indexed using the NIU, as they should.\n",
    "\n",
    "We can also filter specific rows of our table by using a mask. By mask I mean a list (or series) of `True` and `False` values. An easy way to create a mask is by using bollean operations, for example"
   ]
  },
  {
   "cell_type": "code",
   "execution_count": null,
   "metadata": {},
   "outputs": [],
   "source": [
    "passScoresMask = scores > 5.0\n",
    "passScoresMask"
   ]
  },
  {
   "cell_type": "markdown",
   "metadata": {},
   "source": [
    "we can then use this mask to retrieve specific rows (the `True` ones):"
   ]
  },
  {
   "cell_type": "code",
   "execution_count": null,
   "metadata": {},
   "outputs": [],
   "source": [
    "dfStudents[passScoresMask]"
   ]
  },
  {
   "cell_type": "markdown",
   "metadata": {},
   "source": [
    "or directly:"
   ]
  },
  {
   "cell_type": "code",
   "execution_count": null,
   "metadata": {},
   "outputs": [],
   "source": [
    "dfStudents[ dfStudents[\"Exam\"] > 5.0 ]"
   ]
  },
  {
   "cell_type": "markdown",
   "metadata": {},
   "source": [
    "Any boolean expression would do, for example get the members of the Stark family:"
   ]
  },
  {
   "cell_type": "code",
   "execution_count": null,
   "metadata": {},
   "outputs": [],
   "source": [
    "dfStudents[ dfStudents[\"Name\"].str.contains(\"Stark\")]"
   ]
  },
  {
   "cell_type": "markdown",
   "metadata": {},
   "source": [
    "Or a list of students with specific exam scores:"
   ]
  },
  {
   "cell_type": "code",
   "execution_count": null,
   "metadata": {},
   "outputs": [],
   "source": [
    "dfStudents[ dfStudents[\"Exam\"].isin([6.8, 8.5]) ]"
   ]
  },
  {
   "cell_type": "markdown",
   "metadata": {},
   "source": [
    "Or the list of students that have passed both the exam and the practicals:"
   ]
  },
  {
   "cell_type": "code",
   "execution_count": null,
   "metadata": {},
   "outputs": [],
   "source": [
    "dfStudents[ (dfStudents[\"Exam\"]>5) & (dfStudents[\"Practicals\"]>5) ]"
   ]
  },
  {
   "cell_type": "markdown",
   "metadata": {},
   "source": [
    "Read the documentation for the function we used above, here:\n",
    "\n",
    "https://pandas.pydata.org/pandas-docs/stable/reference/api/pandas.Series.str.contains.html\n",
    "\n",
    "https://pandas.pydata.org/pandas-docs/stable/reference/api/pandas.DataFrame.isin.html"
   ]
  },
  {
   "cell_type": "markdown",
   "metadata": {},
   "source": [
    "To get a specific value in the table, you can first get the column and then the row in the column. To do that you should use the corresponding indices - the names of the columns and the index for the row:"
   ]
  },
  {
   "cell_type": "code",
   "execution_count": null,
   "metadata": {},
   "outputs": [],
   "source": [
    "dfStudents[\"Exam\"][111222]"
   ]
  },
  {
   "cell_type": "markdown",
   "metadata": {},
   "source": [
    "Alternatively, you can use integers to index a specific location, using the function `DataFrame.iloc`. Careful! Now the row is the first index and the column is the second one."
   ]
  },
  {
   "cell_type": "code",
   "execution_count": null,
   "metadata": {},
   "outputs": [],
   "source": [
    "dfStudents.iloc[0, 0]"
   ]
  },
  {
   "cell_type": "code",
   "execution_count": null,
   "metadata": {},
   "outputs": [],
   "source": [
    "dfStudents.iloc[1, 0]"
   ]
  },
  {
   "cell_type": "markdown",
   "metadata": {},
   "source": [
    "Adding a column is easy, you just have to tell pandas what you need in it (in the same way as you would add a new entry in a Python dictionary). Let's create a new column called \"Total Mark\" that is the average of the exam and the practicals grades:"
   ]
  },
  {
   "cell_type": "code",
   "execution_count": null,
   "metadata": {},
   "outputs": [],
   "source": [
    "dfStudents[\"Total Mark\"] = (dfStudents[\"Exam\"] + dfStudents[\"Practicals\"]) / 2\n",
    "dfStudents"
   ]
  },
  {
   "cell_type": "markdown",
   "metadata": {},
   "source": [
    "To change a value, you can use `DataFrame.at[]` or `DataFrame.iat[]` passing the row and then the column of the item you want to set:"
   ]
  },
  {
   "cell_type": "code",
   "execution_count": null,
   "metadata": {},
   "outputs": [],
   "source": [
    "dfStudents.at[111222, \"Name\"] = \"Davos Seaworth\" # The indices here are the row and column keys\n",
    "\n",
    "dfStudents.iat[1, 0] = \"Brienne of Tarth\" # the indices here are the row and column numbers\n",
    "\n",
    "dfStudents"
   ]
  },
  {
   "cell_type": "markdown",
   "metadata": {},
   "source": [
    "You can use the same way to add an new element, if you reference an element that does not exist it will be added in the list"
   ]
  },
  {
   "cell_type": "code",
   "execution_count": null,
   "metadata": {},
   "outputs": [],
   "source": [
    "dfStudents.at[\"Starfleet_1234\", \"Name\"] = \"Jean Luc Piccard\"\n",
    "dfStudents"
   ]
  },
  {
   "cell_type": "markdown",
   "metadata": {},
   "source": [
    "See that since we used a row index that does not exist, it was created for us. And since we only provided a value for the name, the rest are marked as \"Not A Number\" `NaN`. We can select all the rows that are NOT *NaN* using the function `notna()`.\n",
    "> *To select all the values that ARE NaN you can use the function `isna()` or `isnull()`.*"
   ]
  },
  {
   "cell_type": "code",
   "execution_count": null,
   "metadata": {},
   "outputs": [],
   "source": [
    "viewWithoutNaNs = dfStudents[dfStudents[\"Exam\"].notna()] # This is just a different view of the same data - the data itself has not been changed\n",
    "viewWithoutNaNs"
   ]
  },
  {
   "cell_type": "markdown",
   "metadata": {},
   "source": [
    "Let's fix that new row by providing values for all the columns:"
   ]
  },
  {
   "cell_type": "code",
   "execution_count": null,
   "metadata": {},
   "outputs": [],
   "source": [
    "dfStudents.at[\"Starfleet_1234\", :] = [\"Jean Luc Picard\", 10.0, 10.0, 10.0]\n",
    "\n",
    "# Or equivalently\n",
    "# dfStudents.at[\"Starfleet_1234\"] = [\"Jean Luc Picard\", 10.0, 10.0, 10.0]\n",
    "\n",
    "dfStudents"
   ]
  },
  {
   "cell_type": "markdown",
   "metadata": {},
   "source": [
    "Another way to add rows is to use `DataFrame.append()`\n",
    "\n",
    "https://pandas.pydata.org/pandas-docs/stable/reference/api/pandas.DataFrame.append.html"
   ]
  },
  {
   "cell_type": "code",
   "execution_count": null,
   "metadata": {},
   "outputs": [],
   "source": [
    "dfStudents.append(pd.Series([\"Seven of Nine\", 10.0, 10.0, 10.0], index = [\"Name\", \"Exam\", \"Practicals\", \"Total Mark\"], name = \"Starfleet_5678\"))"
   ]
  },
  {
   "cell_type": "markdown",
   "metadata": {},
   "source": [
    "Check though that `append()` returns a new object, it does not change the original. Check it out:"
   ]
  },
  {
   "cell_type": "code",
   "execution_count": null,
   "metadata": {},
   "outputs": [],
   "source": [
    "dfStudents"
   ]
  },
  {
   "cell_type": "markdown",
   "metadata": {},
   "source": [
    "If we wanted to save this change, we should do this:"
   ]
  },
  {
   "cell_type": "code",
   "execution_count": null,
   "metadata": {},
   "outputs": [],
   "source": [
    "dfStudents = dfStudents.append(pd.Series([\"Seven of Nine\", 10.0, 10.0, 10.0], index = [\"Name\", \"Exam\", \"Practicals\", \"Total Mark\"], name = \"Starfleet_5678\"))\n",
    "dfStudents"
   ]
  },
  {
   "cell_type": "markdown",
   "metadata": {},
   "source": [
    "Ok, Jean Luc and Seven of Nine are a bit out of place here, let's drop these two rows, literally:"
   ]
  },
  {
   "cell_type": "code",
   "execution_count": null,
   "metadata": {},
   "outputs": [],
   "source": [
    "dfStudents.drop(\"Starfleet_1234\", inplace = True) # If we do not use inplace = True, then the function will return a view of the data\n",
    "dfStudents.drop(\"Starfleet_5678\", inplace = True)\n",
    "dfStudents"
   ]
  },
  {
   "cell_type": "markdown",
   "metadata": {},
   "source": [
    "We can now ask pandas for some quick statistics for the columns that contain numbers, by calling the function `DataFrame.describe()`"
   ]
  },
  {
   "cell_type": "code",
   "execution_count": null,
   "metadata": {},
   "outputs": [],
   "source": [
    "dfStudents.describe()"
   ]
  },
  {
   "cell_type": "markdown",
   "metadata": {},
   "source": [
    "Or for a specific series"
   ]
  },
  {
   "cell_type": "code",
   "execution_count": null,
   "metadata": {},
   "outputs": [],
   "source": [
    "dfStudents[\"Total Mark\"].describe()"
   ]
  },
  {
   "cell_type": "markdown",
   "metadata": {},
   "source": [
    "# Grading students (work in groups)"
   ]
  },
  {
   "cell_type": "markdown",
   "metadata": {},
   "source": [
    "This is the same problem as you did in Problems 1 last week. You are now asked to repeat it, but using pandas.\n",
    "\n",
    "You have been given a list of students in a CSV (Comma Separated Values) file, along with the evaluation scores for a series of works they have submitted. The table of data looks like this:\n",
    "\n",
    "| student_id                           | Score  | Submission_Time  |\n",
    "| ------------------------------------ |:------:| ----------------:|\n",
    "| B73F2C11-70F0-E37D-8B10-1D20AFED50B1 | 92.7   | 02/11/2015 06:55 |\n",
    "| 98A0FAE0-A19A-13D2-4BB5-CFBFD94031D1 | 86.8   | 29/11/2015 14:57 |\n",
    "| D0F62040-CEB0-904C-F563-2F8620916C4E | 85.5   | 09/01/2016 05:36 |\n",
    "| FFDF2B2C-F514-EF7F-6538-A6A53518E9DC | 86.0   | 30/04/2016 06:50 |\n",
    "| 5ECBEEB6-F1CE-80AE-3164-E45E99473FB4 | 64.8   | 13/12/2015 17:06 |\n",
    "| ... | ... | ... |\n",
    "\n",
    "\n",
    "In this exercise we will import and manipulate this data. A lot of code is already given. When code is asked for, this is indicated <font color=blue>in blue</font>."
   ]
  },
  {
   "cell_type": "markdown",
   "metadata": {},
   "source": [
    "<br>\n",
    "\n",
    "First, let's get the data in from a csv file. To do this with pandas we will use the following code. At the time of opening the file, we can specify to panda how to treat different columns. Here we say that want the column called \"student_id\" to be the index columns, and also that the submission time should be parsed as a date"
   ]
  },
  {
   "cell_type": "code",
   "execution_count": null,
   "metadata": {},
   "outputs": [],
   "source": [
    "grades = pd.read_csv(\"grades.csv\", parse_dates=['Submission_Time'], dayfirst=True)"
   ]
  },
  {
   "cell_type": "code",
   "execution_count": null,
   "metadata": {},
   "outputs": [],
   "source": [
    "grades.info()"
   ]
  },
  {
   "cell_type": "markdown",
   "metadata": {},
   "source": [
    "We read 2315 rows and 3 columns. Note that the Submission_Time column is of type `datetime64`. This is a type of numpy, you can read more about it here\n",
    "\n",
    "https://numpy.org/doc/stable/reference/arrays.datetime.html\n",
    "\n",
    "Let's have a look at the first few entries"
   ]
  },
  {
   "cell_type": "code",
   "execution_count": null,
   "metadata": {},
   "outputs": [],
   "source": [
    "grades.head()"
   ]
  },
  {
   "cell_type": "markdown",
   "metadata": {},
   "source": [
    "<br>\n",
    "\n",
    "<font color=\"blue\">**Exercise** Print out the students that scored below 20 or above 99.5</font>"
   ]
  },
  {
   "cell_type": "code",
   "execution_count": null,
   "metadata": {
    "scrolled": true
   },
   "outputs": [],
   "source": [
    "# Your Code Here\n"
   ]
  },
  {
   "cell_type": "markdown",
   "metadata": {},
   "source": [
    "<font color=blue>**Exercise** Filter out the students that submitted their work after 2015-12-31. We give you the deadline definition below.</font>"
   ]
  },
  {
   "cell_type": "code",
   "execution_count": null,
   "metadata": {},
   "outputs": [],
   "source": [
    "import numpy as np\n",
    "deadline = np.datetime64('2015-12-31')"
   ]
  },
  {
   "cell_type": "code",
   "execution_count": null,
   "metadata": {
    "scrolled": true
   },
   "outputs": [],
   "source": [
    "# Your Code Here\n"
   ]
  },
  {
   "cell_type": "markdown",
   "metadata": {},
   "source": [
    "<br>\n",
    "\n",
    "Now let's find the best performing and the worst performing student (of the ones that submitted their work on time).\n",
    "\n",
    "<font color=blue>**Exercise** Find the minimum and the maximum Score.</font>"
   ]
  },
  {
   "cell_type": "code",
   "execution_count": null,
   "metadata": {},
   "outputs": [],
   "source": [
    "# Your Code Here\n"
   ]
  },
  {
   "cell_type": "markdown",
   "metadata": {},
   "source": [
    "<br>\n",
    "\n",
    "<font color=blue>**Exercise** Retrieve the students with the lowest and highest scores</font>"
   ]
  },
  {
   "cell_type": "code",
   "execution_count": null,
   "metadata": {},
   "outputs": [],
   "source": [
    "# Your Code Here\n"
   ]
  },
  {
   "cell_type": "markdown",
   "metadata": {},
   "source": [
    "<br>\n",
    "\n",
    "<font color=blue>**Exercise** Find the average the median and the quantile values for the class scores.</font>\n",
    "\n",
    "> *Hint: use `describe()`*"
   ]
  },
  {
   "cell_type": "code",
   "execution_count": null,
   "metadata": {},
   "outputs": [],
   "source": [
    "# Your Code Here\n"
   ]
  },
  {
   "cell_type": "markdown",
   "metadata": {},
   "source": [
    "<br>\n",
    "\n",
    "<font color=blue>**Exercise** Plot the histogram of scores of all students.</font>"
   ]
  },
  {
   "cell_type": "code",
   "execution_count": null,
   "metadata": {},
   "outputs": [],
   "source": [
    "# Your Code Here\n"
   ]
  }
 ],
 "metadata": {
  "kernelspec": {
   "display_name": "Python 3",
   "language": "python",
   "name": "python3"
  },
  "language_info": {
   "codemirror_mode": {
    "name": "ipython",
    "version": 3
   },
   "file_extension": ".py",
   "mimetype": "text/x-python",
   "name": "python",
   "nbconvert_exporter": "python",
   "pygments_lexer": "ipython3",
   "version": "3.7.9"
  }
 },
 "nbformat": 4,
 "nbformat_minor": 5
}
